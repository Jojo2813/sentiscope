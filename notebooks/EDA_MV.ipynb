{
 "cells": [
  {
   "cell_type": "code",
   "execution_count": 1,
   "id": "398d1bff-c9db-4acb-9886-c8a77f2addb4",
   "metadata": {
    "execution": {
     "iopub.execute_input": "2025-06-09T13:14:41.210682Z",
     "iopub.status.busy": "2025-06-09T13:14:41.210158Z",
     "iopub.status.idle": "2025-06-09T13:14:42.842874Z",
     "shell.execute_reply": "2025-06-09T13:14:42.839837Z",
     "shell.execute_reply.started": "2025-06-09T13:14:41.210633Z"
    }
   },
   "outputs": [],
   "source": [
    "import os\n",
    "import bz2 \n",
    "import pandas as pd"
   ]
  },
  {
   "cell_type": "code",
   "execution_count": 2,
   "id": "d6f5f44b-46ba-45ff-b4c3-802cfa7da6b6",
   "metadata": {
    "execution": {
     "iopub.execute_input": "2025-06-09T13:14:42.846060Z",
     "iopub.status.busy": "2025-06-09T13:14:42.845397Z",
     "iopub.status.idle": "2025-06-09T13:14:45.819799Z",
     "shell.execute_reply": "2025-06-09T13:14:45.817433Z",
     "shell.execute_reply.started": "2025-06-09T13:14:42.846013Z"
    }
   },
   "outputs": [
    {
     "name": "stderr",
     "output_type": "stream",
     "text": [
      "[nltk_data] Downloading package stopwords to\n",
      "[nltk_data]     /home/marcvicente/nltk_data...\n",
      "[nltk_data]   Package stopwords is already up-to-date!\n",
      "[nltk_data] Downloading package punkt to\n",
      "[nltk_data]     /home/marcvicente/nltk_data...\n",
      "[nltk_data]   Package punkt is already up-to-date!\n",
      "[nltk_data] Downloading package punkt_tab to\n",
      "[nltk_data]     /home/marcvicente/nltk_data...\n",
      "[nltk_data]   Package punkt_tab is already up-to-date!\n",
      "[nltk_data] Downloading package wordnet to\n",
      "[nltk_data]     /home/marcvicente/nltk_data...\n",
      "[nltk_data]   Package wordnet is already up-to-date!\n",
      "[nltk_data] Downloading package omw-1.4 to\n",
      "[nltk_data]     /home/marcvicente/nltk_data...\n",
      "[nltk_data]   Package omw-1.4 is already up-to-date!\n"
     ]
    },
    {
     "data": {
      "text/plain": [
       "True"
      ]
     },
     "execution_count": 2,
     "metadata": {},
     "output_type": "execute_result"
    }
   ],
   "source": [
    "import nltk\n",
    "\n",
    "nltk.download('stopwords')\n",
    "nltk.download('punkt')      # For nltk<3.9.0\n",
    "nltk.download('punkt_tab')  # For nltk>=3.9.0\n",
    "nltk.download('wordnet')\n",
    "nltk.download('omw-1.4')"
   ]
  },
  {
   "cell_type": "markdown",
   "id": "9826f50d-4a08-4646-8e1a-3b9e7716211d",
   "metadata": {},
   "source": [
    "# Parse Amazon Review raw files"
   ]
  },
  {
   "cell_type": "code",
   "execution_count": 3,
   "id": "dc5f1f7d-9c68-4fa6-bca7-02c9ab572182",
   "metadata": {
    "execution": {
     "iopub.execute_input": "2025-06-09T13:14:45.821981Z",
     "iopub.status.busy": "2025-06-09T13:14:45.821421Z",
     "iopub.status.idle": "2025-06-09T13:14:45.832197Z",
     "shell.execute_reply": "2025-06-09T13:14:45.829379Z",
     "shell.execute_reply.started": "2025-06-09T13:14:45.821942Z"
    }
   },
   "outputs": [],
   "source": [
    "path = \"../raw_data\""
   ]
  },
  {
   "cell_type": "code",
   "execution_count": 4,
   "id": "fbd8359b-3d40-45ad-abf2-c9ddfe219815",
   "metadata": {
    "execution": {
     "iopub.execute_input": "2025-06-09T13:14:45.847938Z",
     "iopub.status.busy": "2025-06-09T13:14:45.838654Z",
     "iopub.status.idle": "2025-06-09T13:14:45.866416Z",
     "shell.execute_reply": "2025-06-09T13:14:45.863782Z",
     "shell.execute_reply.started": "2025-06-09T13:14:45.847877Z"
    }
   },
   "outputs": [],
   "source": [
    "def parse_raw_files(root_path:str, file_path_string:str):\n",
    "    \n",
    "    file_path = os.path.join(root_path, file_path_string)\n",
    "\n",
    "    data = []\n",
    "    \n",
    "    with bz2.open(file_path, 'rt', encoding='utf-8') as f:\n",
    "        for line in f:\n",
    "            parts = line.strip().split(' ' , 1)\n",
    "            if len(parts) == 2:\n",
    "                label, text = parts\n",
    "                label = label.replace('__label__', '')\n",
    "                data.append((label, text))\n",
    "                \n",
    "    df = pd.DataFrame(data, columns=['label', 'text'])\n",
    "    df['label'] = df['label'].astype(int)\n",
    "    \n",
    "    return df"
   ]
  },
  {
   "cell_type": "code",
   "execution_count": 18,
   "id": "4278fa18-fbf7-4ff7-a8ae-c8ce29556acd",
   "metadata": {
    "execution": {
     "iopub.execute_input": "2025-06-09T13:57:32.272595Z",
     "iopub.status.busy": "2025-06-09T13:57:32.272310Z",
     "iopub.status.idle": "2025-06-09T13:57:32.276931Z",
     "shell.execute_reply": "2025-06-09T13:57:32.276151Z",
     "shell.execute_reply.started": "2025-06-09T13:57:32.272575Z"
    }
   },
   "outputs": [],
   "source": [
    "train_path = '../raw_data/raw_train_data.csv'\n",
    "test_path = '../raw_data/raw_test_data.csv'"
   ]
  },
  {
   "cell_type": "code",
   "execution_count": 19,
   "id": "af5d63f0-86e7-49e5-b13a-0ec4a164c7c5",
   "metadata": {
    "execution": {
     "iopub.execute_input": "2025-06-09T13:58:23.586448Z",
     "iopub.status.busy": "2025-06-09T13:58:23.585839Z",
     "iopub.status.idle": "2025-06-09T13:58:35.253339Z",
     "shell.execute_reply": "2025-06-09T13:58:35.252641Z",
     "shell.execute_reply.started": "2025-06-09T13:58:23.586427Z"
    }
   },
   "outputs": [
    {
     "name": "stdout",
     "output_type": "stream",
     "text": [
      "File found. Data loaded.\n"
     ]
    }
   ],
   "source": [
    "if os.path.exists(train_path):\n",
    "    train_df = pd.read_csv(train_path)\n",
    "    train_df.head()\n",
    "    print(\"File found. Data loaded.\")\n",
    "else:\n",
    "    # Your alternative logic here\n",
    "    print(\"File not found. Performing direct read operation.\")\n",
    "    train_df = parse_raw_files(path,'train.ft.txt.bz2')\n",
    "    train_df.to_csv('../raw_data/raw_train_data.csv', index=False)\n",
    "    train_df.head()"
   ]
  },
  {
   "cell_type": "code",
   "execution_count": 22,
   "id": "b2eb3467-9371-4bf6-a80b-27489eed3571",
   "metadata": {
    "execution": {
     "iopub.execute_input": "2025-06-09T14:01:14.360558Z",
     "iopub.status.busy": "2025-06-09T14:01:14.360282Z",
     "iopub.status.idle": "2025-06-09T14:01:15.469110Z",
     "shell.execute_reply": "2025-06-09T14:01:15.468464Z",
     "shell.execute_reply.started": "2025-06-09T14:01:14.360527Z"
    }
   },
   "outputs": [
    {
     "name": "stdout",
     "output_type": "stream",
     "text": [
      "File found. Data loaded.\n"
     ]
    }
   ],
   "source": [
    "if os.path.exists(test_path):\n",
    "    test_df = pd.read_csv(test_path)\n",
    "    print(\"File found. Data loaded.\")\n",
    "    test_df.head()\n",
    "else:\n",
    "    # Your alternative logic here\n",
    "    print(\"File not found. Performing direct read operation.\")\n",
    "    test_df = parse_raw_files(path,'test.ft.txt.bz2')\n",
    "    test_df.to_csv('../raw_data/raw_test_data.csv', index=False)\n",
    "    test_df.head()"
   ]
  },
  {
   "cell_type": "code",
   "execution_count": 24,
   "id": "807a0c80-e6d6-4b69-83e8-19661fce159f",
   "metadata": {
    "execution": {
     "iopub.execute_input": "2025-06-09T14:02:08.953678Z",
     "iopub.status.busy": "2025-06-09T14:02:08.953372Z",
     "iopub.status.idle": "2025-06-09T14:02:08.961798Z",
     "shell.execute_reply": "2025-06-09T14:02:08.960703Z",
     "shell.execute_reply.started": "2025-06-09T14:02:08.953653Z"
    }
   },
   "outputs": [
    {
     "data": {
      "text/html": [
       "<div>\n",
       "<style scoped>\n",
       "    .dataframe tbody tr th:only-of-type {\n",
       "        vertical-align: middle;\n",
       "    }\n",
       "\n",
       "    .dataframe tbody tr th {\n",
       "        vertical-align: top;\n",
       "    }\n",
       "\n",
       "    .dataframe thead th {\n",
       "        text-align: right;\n",
       "    }\n",
       "</style>\n",
       "<table border=\"1\" class=\"dataframe\">\n",
       "  <thead>\n",
       "    <tr style=\"text-align: right;\">\n",
       "      <th></th>\n",
       "      <th>label</th>\n",
       "      <th>text</th>\n",
       "    </tr>\n",
       "  </thead>\n",
       "  <tbody>\n",
       "    <tr>\n",
       "      <th>0</th>\n",
       "      <td>2</td>\n",
       "      <td>Great CD: My lovely Pat has one of the GREAT v...</td>\n",
       "    </tr>\n",
       "    <tr>\n",
       "      <th>1</th>\n",
       "      <td>2</td>\n",
       "      <td>One of the best game music soundtracks - for a...</td>\n",
       "    </tr>\n",
       "    <tr>\n",
       "      <th>2</th>\n",
       "      <td>1</td>\n",
       "      <td>Batteries died within a year ...: I bought thi...</td>\n",
       "    </tr>\n",
       "    <tr>\n",
       "      <th>3</th>\n",
       "      <td>2</td>\n",
       "      <td>works fine, but Maha Energy is better: Check o...</td>\n",
       "    </tr>\n",
       "    <tr>\n",
       "      <th>4</th>\n",
       "      <td>2</td>\n",
       "      <td>Great for the non-audiophile: Reviewed quite a...</td>\n",
       "    </tr>\n",
       "  </tbody>\n",
       "</table>\n",
       "</div>"
      ],
      "text/plain": [
       "   label                                               text\n",
       "0      2  Great CD: My lovely Pat has one of the GREAT v...\n",
       "1      2  One of the best game music soundtracks - for a...\n",
       "2      1  Batteries died within a year ...: I bought thi...\n",
       "3      2  works fine, but Maha Energy is better: Check o...\n",
       "4      2  Great for the non-audiophile: Reviewed quite a..."
      ]
     },
     "execution_count": 24,
     "metadata": {},
     "output_type": "execute_result"
    }
   ],
   "source": [
    "test_df.head()"
   ]
  },
  {
   "cell_type": "code",
   "execution_count": 7,
   "id": "ea69aaa9-cef5-4031-bc33-58632aa3823a",
   "metadata": {
    "execution": {
     "iopub.execute_input": "2025-06-09T13:17:32.308866Z",
     "iopub.status.busy": "2025-06-09T13:17:32.308385Z",
     "iopub.status.idle": "2025-06-09T13:17:32.353134Z",
     "shell.execute_reply": "2025-06-09T13:17:32.352565Z",
     "shell.execute_reply.started": "2025-06-09T13:17:32.308812Z"
    }
   },
   "outputs": [
    {
     "name": "stdout",
     "output_type": "stream",
     "text": [
      "Excellent Soundtrack: I truly like this soundtrack and I enjoy video game music. I have played this game and most of the music on here I enjoy and it's truly relaxing and peaceful.On disk one. my favorites are Scars Of Time, Between Life and Death, Forest Of Illusion, Fortress of Ancient Dragons, Lost Fragment, and Drowned Valley.Disk Two: The Draggons, Galdorb - Home, Chronomantique, Prisoners of Fate, Gale, and my girlfriend likes ZelbessDisk Three: The best of the three. Garden Of God, Chronopolis, Fates, Jellyfish sea, Burning Orphange, Dragon's Prayer, Tower Of Stars, Dragon God, and Radical Dreamers - Unstealable Jewel.Overall, this is a excellent soundtrack and should be brought by those that like video game music.Xander Cross\n"
     ]
    }
   ],
   "source": [
    "print(train_df.loc[3,\"text\"])"
   ]
  },
  {
   "cell_type": "markdown",
   "id": "6886fd38-ac85-4854-bf1f-d20def3d2934",
   "metadata": {},
   "source": [
    "# Cleaning data"
   ]
  },
  {
   "cell_type": "markdown",
   "id": "4ec1e9ef-1197-4f2e-8857-1b12ba0af33c",
   "metadata": {},
   "source": [
    "### (1.1) Remove punctuation"
   ]
  },
  {
   "cell_type": "code",
   "execution_count": 8,
   "id": "bc3cc7ef-72de-49a9-b7ae-33b3043a8f88",
   "metadata": {
    "execution": {
     "iopub.execute_input": "2025-06-09T13:17:32.354602Z",
     "iopub.status.busy": "2025-06-09T13:17:32.354443Z",
     "iopub.status.idle": "2025-06-09T13:17:32.359615Z",
     "shell.execute_reply": "2025-06-09T13:17:32.358747Z",
     "shell.execute_reply.started": "2025-06-09T13:17:32.354589Z"
    }
   },
   "outputs": [],
   "source": [
    "import string\n",
    "\n",
    "def remove_punctuation(my_text):\n",
    "    for punctuation in string.punctuation:\n",
    "        my_text = my_text.replace(punctuation,'')\n",
    "    return my_text"
   ]
  },
  {
   "cell_type": "markdown",
   "id": "5362e925-9774-454f-8ba5-3a9d909d1d81",
   "metadata": {
    "execution": {
     "iopub.execute_input": "2025-06-09T12:37:12.141639Z",
     "iopub.status.busy": "2025-06-09T12:37:12.140677Z",
     "iopub.status.idle": "2025-06-09T12:37:12.153575Z",
     "shell.execute_reply": "2025-06-09T12:37:12.150342Z",
     "shell.execute_reply.started": "2025-06-09T12:37:12.141584Z"
    }
   },
   "source": [
    "### (1.2) Lower case"
   ]
  },
  {
   "cell_type": "code",
   "execution_count": 9,
   "id": "7c7bdc87-2954-46f5-a36b-b126b5361f10",
   "metadata": {
    "execution": {
     "iopub.execute_input": "2025-06-09T13:17:32.365569Z",
     "iopub.status.busy": "2025-06-09T13:17:32.365137Z",
     "iopub.status.idle": "2025-06-09T13:17:32.370071Z",
     "shell.execute_reply": "2025-06-09T13:17:32.369014Z",
     "shell.execute_reply.started": "2025-06-09T13:17:32.365551Z"
    }
   },
   "outputs": [],
   "source": [
    "def make_lower(my_text):\n",
    "    if my_text is None:\n",
    "        return None\n",
    "    return my_text.lower()"
   ]
  },
  {
   "cell_type": "markdown",
   "id": "ff2c8903-c212-4cca-9906-c9c538e10412",
   "metadata": {
    "execution": {
     "iopub.execute_input": "2025-06-09T12:42:44.099238Z",
     "iopub.status.busy": "2025-06-09T12:42:44.095652Z",
     "iopub.status.idle": "2025-06-09T12:42:44.110771Z",
     "shell.execute_reply": "2025-06-09T12:42:44.108492Z",
     "shell.execute_reply.started": "2025-06-09T12:42:44.099030Z"
    }
   },
   "source": [
    "### (1.3) Remove Numbers"
   ]
  },
  {
   "cell_type": "code",
   "execution_count": 10,
   "id": "0cf7603f-253c-495a-a551-5172f6c0d6f4",
   "metadata": {
    "execution": {
     "iopub.execute_input": "2025-06-09T13:17:32.371178Z",
     "iopub.status.busy": "2025-06-09T13:17:32.370991Z",
     "iopub.status.idle": "2025-06-09T13:17:32.378922Z",
     "shell.execute_reply": "2025-06-09T13:17:32.378011Z",
     "shell.execute_reply.started": "2025-06-09T13:17:32.371164Z"
    }
   },
   "outputs": [],
   "source": [
    "def remove_numbers(my_text):\n",
    "    my_text = ''.join([char for char in my_text if not char.isdigit()])\n",
    "    return my_text"
   ]
  },
  {
   "cell_type": "markdown",
   "id": "9db3e3c6-53b0-4131-87da-159704895a55",
   "metadata": {
    "execution": {
     "iopub.execute_input": "2025-06-09T12:43:12.935775Z",
     "iopub.status.busy": "2025-06-09T12:43:12.935290Z",
     "iopub.status.idle": "2025-06-09T12:43:12.944046Z",
     "shell.execute_reply": "2025-06-09T12:43:12.941743Z",
     "shell.execute_reply.started": "2025-06-09T12:43:12.935741Z"
    }
   },
   "source": [
    "### (1.4) Remove Stopwords"
   ]
  },
  {
   "cell_type": "code",
   "execution_count": 11,
   "id": "c88a5cd7-3464-4450-afed-6b676f130e4d",
   "metadata": {
    "execution": {
     "iopub.execute_input": "2025-06-09T13:17:32.380394Z",
     "iopub.status.busy": "2025-06-09T13:17:32.380053Z",
     "iopub.status.idle": "2025-06-09T13:17:32.384076Z",
     "shell.execute_reply": "2025-06-09T13:17:32.383573Z",
     "shell.execute_reply.started": "2025-06-09T13:17:32.380376Z"
    }
   },
   "outputs": [],
   "source": [
    "from nltk.corpus import stopwords\n",
    "from nltk.tokenize import word_tokenize\n",
    "\n",
    "def remove_stopwords(my_text):\n",
    "    \n",
    "    stop_words = set(stopwords.words('english')) ## Limitation as some reviews are written in spanish\n",
    "    word_tokens = word_tokenize(my_text)\n",
    "\n",
    "    tokenized_sentence_no_stopwords = [word for word in word_tokens if not word in stop_words]\n",
    "    return tokenized_sentence_no_stopwords"
   ]
  },
  {
   "cell_type": "markdown",
   "id": "d822612b-bf0e-4d07-8d27-d4737aa8ece7",
   "metadata": {},
   "source": [
    "### (1.5) Lemmatizer"
   ]
  },
  {
   "cell_type": "code",
   "execution_count": 12,
   "id": "39ee92bc-8bfc-4900-8c02-b81daf6f6af3",
   "metadata": {
    "execution": {
     "iopub.execute_input": "2025-06-09T13:17:32.385496Z",
     "iopub.status.busy": "2025-06-09T13:17:32.385128Z",
     "iopub.status.idle": "2025-06-09T13:17:32.388766Z",
     "shell.execute_reply": "2025-06-09T13:17:32.388253Z",
     "shell.execute_reply.started": "2025-06-09T13:17:32.385477Z"
    }
   },
   "outputs": [],
   "source": [
    "from nltk.stem import WordNetLemmatizer\n",
    "\n",
    "def lemmatize_text(my_tokens_list):\n",
    "\n",
    "    # Lemmatizing the verbs\n",
    "    verb_lemmatized = [\n",
    "        WordNetLemmatizer().lemmatize(word, pos = \"v\") # v --> verbs\n",
    "        for word in my_tokens_list\n",
    "    ]\n",
    "    \n",
    "    # 2 - Lemmatizing the nouns\n",
    "    noun_lemmatized = [\n",
    "        WordNetLemmatizer().lemmatize(word, pos = \"n\") # n --> nouns\n",
    "        for word in verb_lemmatized\n",
    "    ]\n",
    "\n",
    "    return ' '.join(noun_lemmatized)"
   ]
  },
  {
   "cell_type": "markdown",
   "id": "a83beda3-f5bc-40fd-aef8-d7136fad9b4d",
   "metadata": {},
   "source": [
    "### (1.6) Preprocessing main function"
   ]
  },
  {
   "cell_type": "code",
   "execution_count": 13,
   "id": "e41f1149-8164-4b09-a0be-b904c9b48a82",
   "metadata": {
    "execution": {
     "iopub.execute_input": "2025-06-09T13:17:32.389486Z",
     "iopub.status.busy": "2025-06-09T13:17:32.389300Z",
     "iopub.status.idle": "2025-06-09T13:17:32.394691Z",
     "shell.execute_reply": "2025-06-09T13:17:32.394127Z",
     "shell.execute_reply.started": "2025-06-09T13:17:32.389466Z"
    }
   },
   "outputs": [],
   "source": [
    "def text_preprocessing(df):\n",
    "    \n",
    "    df['cleaned'] = df['text'].apply(remove_punctuation)\n",
    "\n",
    "    df['cleaned'] = df['cleaned'].apply(make_lower)\n",
    "\n",
    "    df['cleaned'] = df['cleaned'].apply(remove_numbers)\n",
    "\n",
    "    df['cleaned'] = df['cleaned'].apply(remove_stopwords)\n",
    "\n",
    "    df['cleaned'] = df['cleaned'].apply(lemmatize_text)\n",
    "\n",
    "    return df"
   ]
  },
  {
   "cell_type": "code",
   "execution_count": 14,
   "id": "60d7491f-fc46-4f27-8d1b-a47b931e8f19",
   "metadata": {
    "execution": {
     "iopub.execute_input": "2025-06-09T13:17:32.396118Z",
     "iopub.status.busy": "2025-06-09T13:17:32.395914Z",
     "iopub.status.idle": "2025-06-09T13:17:32.530858Z",
     "shell.execute_reply": "2025-06-09T13:17:32.530111Z",
     "shell.execute_reply.started": "2025-06-09T13:17:32.396103Z"
    }
   },
   "outputs": [],
   "source": [
    "train_sample_df = train_df.sample(frac=0.1)"
   ]
  },
  {
   "cell_type": "code",
   "execution_count": 30,
   "id": "21bc262b-4558-4745-85df-b6f8ed47c0d0",
   "metadata": {
    "execution": {
     "iopub.execute_input": "2025-06-09T14:19:43.007686Z",
     "iopub.status.busy": "2025-06-09T14:19:43.007381Z",
     "iopub.status.idle": "2025-06-09T14:19:43.019247Z",
     "shell.execute_reply": "2025-06-09T14:19:43.018055Z",
     "shell.execute_reply.started": "2025-06-09T14:19:43.007668Z"
    }
   },
   "outputs": [
    {
     "data": {
      "text/html": [
       "<div>\n",
       "<style scoped>\n",
       "    .dataframe tbody tr th:only-of-type {\n",
       "        vertical-align: middle;\n",
       "    }\n",
       "\n",
       "    .dataframe tbody tr th {\n",
       "        vertical-align: top;\n",
       "    }\n",
       "\n",
       "    .dataframe thead th {\n",
       "        text-align: right;\n",
       "    }\n",
       "</style>\n",
       "<table border=\"1\" class=\"dataframe\">\n",
       "  <thead>\n",
       "    <tr style=\"text-align: right;\">\n",
       "      <th></th>\n",
       "      <th>label</th>\n",
       "      <th>text</th>\n",
       "    </tr>\n",
       "  </thead>\n",
       "  <tbody>\n",
       "    <tr>\n",
       "      <th>2296910</th>\n",
       "      <td>2</td>\n",
       "      <td>Fantastic toy beagle!: While this beagle might...</td>\n",
       "    </tr>\n",
       "    <tr>\n",
       "      <th>2863948</th>\n",
       "      <td>2</td>\n",
       "      <td>Worked fine: Good training tool. We used it at...</td>\n",
       "    </tr>\n",
       "    <tr>\n",
       "      <th>835715</th>\n",
       "      <td>2</td>\n",
       "      <td>One of Grisham's best: This is the best that G...</td>\n",
       "    </tr>\n",
       "    <tr>\n",
       "      <th>3235453</th>\n",
       "      <td>2</td>\n",
       "      <td>entertaining, not as deep as promised: I found...</td>\n",
       "    </tr>\n",
       "    <tr>\n",
       "      <th>1114717</th>\n",
       "      <td>1</td>\n",
       "      <td>HORRIBLE PURCHASE: BEWARE!!! DO NOT PURCHASE T...</td>\n",
       "    </tr>\n",
       "  </tbody>\n",
       "</table>\n",
       "</div>"
      ],
      "text/plain": [
       "         label                                               text\n",
       "2296910      2  Fantastic toy beagle!: While this beagle might...\n",
       "2863948      2  Worked fine: Good training tool. We used it at...\n",
       "835715       2  One of Grisham's best: This is the best that G...\n",
       "3235453      2  entertaining, not as deep as promised: I found...\n",
       "1114717      1  HORRIBLE PURCHASE: BEWARE!!! DO NOT PURCHASE T..."
      ]
     },
     "execution_count": 30,
     "metadata": {},
     "output_type": "execute_result"
    }
   ],
   "source": [
    "train_sample_df.head()"
   ]
  },
  {
   "cell_type": "code",
   "execution_count": 29,
   "id": "0f708ad7-0be5-4605-80a7-50aefe4d8f5b",
   "metadata": {
    "execution": {
     "iopub.execute_input": "2025-06-09T14:14:05.155526Z",
     "iopub.status.busy": "2025-06-09T14:14:05.155304Z",
     "iopub.status.idle": "2025-06-09T14:14:05.227483Z",
     "shell.execute_reply": "2025-06-09T14:14:05.226280Z",
     "shell.execute_reply.started": "2025-06-09T14:14:05.155512Z"
    }
   },
   "outputs": [
    {
     "ename": "KeyError",
     "evalue": "'text'",
     "output_type": "error",
     "traceback": [
      "\u001b[0;31m---------------------------------------------------------------------------\u001b[0m",
      "\u001b[0;31mKeyError\u001b[0m                                  Traceback (most recent call last)",
      "File \u001b[0;32m~/.pyenv/versions/3.10.6/envs/sentiscope/lib/python3.10/site-packages/pandas/core/indexes/base.py:3812\u001b[0m, in \u001b[0;36mIndex.get_loc\u001b[0;34m(self, key)\u001b[0m\n\u001b[1;32m   3811\u001b[0m \u001b[38;5;28;01mtry\u001b[39;00m:\n\u001b[0;32m-> 3812\u001b[0m     \u001b[38;5;28;01mreturn\u001b[39;00m \u001b[38;5;28;43mself\u001b[39;49m\u001b[38;5;241;43m.\u001b[39;49m\u001b[43m_engine\u001b[49m\u001b[38;5;241;43m.\u001b[39;49m\u001b[43mget_loc\u001b[49m\u001b[43m(\u001b[49m\u001b[43mcasted_key\u001b[49m\u001b[43m)\u001b[49m\n\u001b[1;32m   3813\u001b[0m \u001b[38;5;28;01mexcept\u001b[39;00m \u001b[38;5;167;01mKeyError\u001b[39;00m \u001b[38;5;28;01mas\u001b[39;00m err:\n",
      "File \u001b[0;32mpandas/_libs/index.pyx:167\u001b[0m, in \u001b[0;36mpandas._libs.index.IndexEngine.get_loc\u001b[0;34m()\u001b[0m\n",
      "File \u001b[0;32mpandas/_libs/index.pyx:175\u001b[0m, in \u001b[0;36mpandas._libs.index.IndexEngine.get_loc\u001b[0;34m()\u001b[0m\n",
      "File \u001b[0;32mpandas/_libs/index_class_helper.pxi:70\u001b[0m, in \u001b[0;36mpandas._libs.index.Int64Engine._check_type\u001b[0;34m()\u001b[0m\n",
      "\u001b[0;31mKeyError\u001b[0m: 'text'",
      "\nThe above exception was the direct cause of the following exception:\n",
      "\u001b[0;31mKeyError\u001b[0m                                  Traceback (most recent call last)",
      "Cell \u001b[0;32mIn[29], line 1\u001b[0m\n\u001b[0;32m----> 1\u001b[0m preproc_train_sample_df \u001b[38;5;241m=\u001b[39m \u001b[43mtrain_sample_df\u001b[49m\u001b[38;5;241;43m.\u001b[39;49m\u001b[43mapply\u001b[49m\u001b[43m(\u001b[49m\u001b[43mtext_preprocessing\u001b[49m\u001b[43m)\u001b[49m\n\u001b[1;32m      2\u001b[0m preproc_train_sample_df\u001b[38;5;241m.\u001b[39minfo()\n",
      "File \u001b[0;32m~/.pyenv/versions/3.10.6/envs/sentiscope/lib/python3.10/site-packages/pandas/core/frame.py:10381\u001b[0m, in \u001b[0;36mDataFrame.apply\u001b[0;34m(self, func, axis, raw, result_type, args, by_row, engine, engine_kwargs, **kwargs)\u001b[0m\n\u001b[1;32m  10367\u001b[0m \u001b[38;5;28;01mfrom\u001b[39;00m\u001b[38;5;250m \u001b[39m\u001b[38;5;21;01mpandas\u001b[39;00m\u001b[38;5;21;01m.\u001b[39;00m\u001b[38;5;21;01mcore\u001b[39;00m\u001b[38;5;21;01m.\u001b[39;00m\u001b[38;5;21;01mapply\u001b[39;00m\u001b[38;5;250m \u001b[39m\u001b[38;5;28;01mimport\u001b[39;00m frame_apply\n\u001b[1;32m  10369\u001b[0m op \u001b[38;5;241m=\u001b[39m frame_apply(\n\u001b[1;32m  10370\u001b[0m     \u001b[38;5;28mself\u001b[39m,\n\u001b[1;32m  10371\u001b[0m     func\u001b[38;5;241m=\u001b[39mfunc,\n\u001b[0;32m   (...)\u001b[0m\n\u001b[1;32m  10379\u001b[0m     kwargs\u001b[38;5;241m=\u001b[39mkwargs,\n\u001b[1;32m  10380\u001b[0m )\n\u001b[0;32m> 10381\u001b[0m \u001b[38;5;28;01mreturn\u001b[39;00m \u001b[43mop\u001b[49m\u001b[38;5;241;43m.\u001b[39;49m\u001b[43mapply\u001b[49m\u001b[43m(\u001b[49m\u001b[43m)\u001b[49m\u001b[38;5;241m.\u001b[39m__finalize__(\u001b[38;5;28mself\u001b[39m, method\u001b[38;5;241m=\u001b[39m\u001b[38;5;124m\"\u001b[39m\u001b[38;5;124mapply\u001b[39m\u001b[38;5;124m\"\u001b[39m)\n",
      "File \u001b[0;32m~/.pyenv/versions/3.10.6/envs/sentiscope/lib/python3.10/site-packages/pandas/core/apply.py:916\u001b[0m, in \u001b[0;36mFrameApply.apply\u001b[0;34m(self)\u001b[0m\n\u001b[1;32m    913\u001b[0m \u001b[38;5;28;01melif\u001b[39;00m \u001b[38;5;28mself\u001b[39m\u001b[38;5;241m.\u001b[39mraw:\n\u001b[1;32m    914\u001b[0m     \u001b[38;5;28;01mreturn\u001b[39;00m \u001b[38;5;28mself\u001b[39m\u001b[38;5;241m.\u001b[39mapply_raw(engine\u001b[38;5;241m=\u001b[39m\u001b[38;5;28mself\u001b[39m\u001b[38;5;241m.\u001b[39mengine, engine_kwargs\u001b[38;5;241m=\u001b[39m\u001b[38;5;28mself\u001b[39m\u001b[38;5;241m.\u001b[39mengine_kwargs)\n\u001b[0;32m--> 916\u001b[0m \u001b[38;5;28;01mreturn\u001b[39;00m \u001b[38;5;28;43mself\u001b[39;49m\u001b[38;5;241;43m.\u001b[39;49m\u001b[43mapply_standard\u001b[49m\u001b[43m(\u001b[49m\u001b[43m)\u001b[49m\n",
      "File \u001b[0;32m~/.pyenv/versions/3.10.6/envs/sentiscope/lib/python3.10/site-packages/pandas/core/apply.py:1063\u001b[0m, in \u001b[0;36mFrameApply.apply_standard\u001b[0;34m(self)\u001b[0m\n\u001b[1;32m   1061\u001b[0m \u001b[38;5;28;01mdef\u001b[39;00m\u001b[38;5;250m \u001b[39m\u001b[38;5;21mapply_standard\u001b[39m(\u001b[38;5;28mself\u001b[39m):\n\u001b[1;32m   1062\u001b[0m     \u001b[38;5;28;01mif\u001b[39;00m \u001b[38;5;28mself\u001b[39m\u001b[38;5;241m.\u001b[39mengine \u001b[38;5;241m==\u001b[39m \u001b[38;5;124m\"\u001b[39m\u001b[38;5;124mpython\u001b[39m\u001b[38;5;124m\"\u001b[39m:\n\u001b[0;32m-> 1063\u001b[0m         results, res_index \u001b[38;5;241m=\u001b[39m \u001b[38;5;28;43mself\u001b[39;49m\u001b[38;5;241;43m.\u001b[39;49m\u001b[43mapply_series_generator\u001b[49m\u001b[43m(\u001b[49m\u001b[43m)\u001b[49m\n\u001b[1;32m   1064\u001b[0m     \u001b[38;5;28;01melse\u001b[39;00m:\n\u001b[1;32m   1065\u001b[0m         results, res_index \u001b[38;5;241m=\u001b[39m \u001b[38;5;28mself\u001b[39m\u001b[38;5;241m.\u001b[39mapply_series_numba()\n",
      "File \u001b[0;32m~/.pyenv/versions/3.10.6/envs/sentiscope/lib/python3.10/site-packages/pandas/core/apply.py:1081\u001b[0m, in \u001b[0;36mFrameApply.apply_series_generator\u001b[0;34m(self)\u001b[0m\n\u001b[1;32m   1078\u001b[0m \u001b[38;5;28;01mwith\u001b[39;00m option_context(\u001b[38;5;124m\"\u001b[39m\u001b[38;5;124mmode.chained_assignment\u001b[39m\u001b[38;5;124m\"\u001b[39m, \u001b[38;5;28;01mNone\u001b[39;00m):\n\u001b[1;32m   1079\u001b[0m     \u001b[38;5;28;01mfor\u001b[39;00m i, v \u001b[38;5;129;01min\u001b[39;00m \u001b[38;5;28menumerate\u001b[39m(series_gen):\n\u001b[1;32m   1080\u001b[0m         \u001b[38;5;66;03m# ignore SettingWithCopy here in case the user mutates\u001b[39;00m\n\u001b[0;32m-> 1081\u001b[0m         results[i] \u001b[38;5;241m=\u001b[39m \u001b[38;5;28;43mself\u001b[39;49m\u001b[38;5;241;43m.\u001b[39;49m\u001b[43mfunc\u001b[49m\u001b[43m(\u001b[49m\u001b[43mv\u001b[49m\u001b[43m,\u001b[49m\u001b[43m \u001b[49m\u001b[38;5;241;43m*\u001b[39;49m\u001b[38;5;28;43mself\u001b[39;49m\u001b[38;5;241;43m.\u001b[39;49m\u001b[43margs\u001b[49m\u001b[43m,\u001b[49m\u001b[43m \u001b[49m\u001b[38;5;241;43m*\u001b[39;49m\u001b[38;5;241;43m*\u001b[39;49m\u001b[38;5;28;43mself\u001b[39;49m\u001b[38;5;241;43m.\u001b[39;49m\u001b[43mkwargs\u001b[49m\u001b[43m)\u001b[49m\n\u001b[1;32m   1082\u001b[0m         \u001b[38;5;28;01mif\u001b[39;00m \u001b[38;5;28misinstance\u001b[39m(results[i], ABCSeries):\n\u001b[1;32m   1083\u001b[0m             \u001b[38;5;66;03m# If we have a view on v, we need to make a copy because\u001b[39;00m\n\u001b[1;32m   1084\u001b[0m             \u001b[38;5;66;03m#  series_generator will swap out the underlying data\u001b[39;00m\n\u001b[1;32m   1085\u001b[0m             results[i] \u001b[38;5;241m=\u001b[39m results[i]\u001b[38;5;241m.\u001b[39mcopy(deep\u001b[38;5;241m=\u001b[39m\u001b[38;5;28;01mFalse\u001b[39;00m)\n",
      "Cell \u001b[0;32mIn[13], line 3\u001b[0m, in \u001b[0;36mtext_preprocessing\u001b[0;34m(df)\u001b[0m\n\u001b[1;32m      1\u001b[0m \u001b[38;5;28;01mdef\u001b[39;00m\u001b[38;5;250m \u001b[39m\u001b[38;5;21mtext_preprocessing\u001b[39m(df):\n\u001b[0;32m----> 3\u001b[0m     df[\u001b[38;5;124m'\u001b[39m\u001b[38;5;124mcleaned\u001b[39m\u001b[38;5;124m'\u001b[39m] \u001b[38;5;241m=\u001b[39m \u001b[43mdf\u001b[49m\u001b[43m[\u001b[49m\u001b[38;5;124;43m'\u001b[39;49m\u001b[38;5;124;43mtext\u001b[39;49m\u001b[38;5;124;43m'\u001b[39;49m\u001b[43m]\u001b[49m\u001b[38;5;241m.\u001b[39mapply(remove_punctuation)\n\u001b[1;32m      5\u001b[0m     df[\u001b[38;5;124m'\u001b[39m\u001b[38;5;124mcleaned\u001b[39m\u001b[38;5;124m'\u001b[39m] \u001b[38;5;241m=\u001b[39m df[\u001b[38;5;124m'\u001b[39m\u001b[38;5;124mcleaned\u001b[39m\u001b[38;5;124m'\u001b[39m]\u001b[38;5;241m.\u001b[39mapply(make_lower)\n\u001b[1;32m      7\u001b[0m     df[\u001b[38;5;124m'\u001b[39m\u001b[38;5;124mcleaned\u001b[39m\u001b[38;5;124m'\u001b[39m] \u001b[38;5;241m=\u001b[39m df[\u001b[38;5;124m'\u001b[39m\u001b[38;5;124mcleaned\u001b[39m\u001b[38;5;124m'\u001b[39m]\u001b[38;5;241m.\u001b[39mapply(remove_numbers)\n",
      "File \u001b[0;32m~/.pyenv/versions/3.10.6/envs/sentiscope/lib/python3.10/site-packages/pandas/core/series.py:1130\u001b[0m, in \u001b[0;36mSeries.__getitem__\u001b[0;34m(self, key)\u001b[0m\n\u001b[1;32m   1127\u001b[0m     \u001b[38;5;28;01mreturn\u001b[39;00m \u001b[38;5;28mself\u001b[39m\u001b[38;5;241m.\u001b[39m_values[key]\n\u001b[1;32m   1129\u001b[0m \u001b[38;5;28;01melif\u001b[39;00m key_is_scalar:\n\u001b[0;32m-> 1130\u001b[0m     \u001b[38;5;28;01mreturn\u001b[39;00m \u001b[38;5;28;43mself\u001b[39;49m\u001b[38;5;241;43m.\u001b[39;49m\u001b[43m_get_value\u001b[49m\u001b[43m(\u001b[49m\u001b[43mkey\u001b[49m\u001b[43m)\u001b[49m\n\u001b[1;32m   1132\u001b[0m \u001b[38;5;66;03m# Convert generator to list before going through hashable part\u001b[39;00m\n\u001b[1;32m   1133\u001b[0m \u001b[38;5;66;03m# (We will iterate through the generator there to check for slices)\u001b[39;00m\n\u001b[1;32m   1134\u001b[0m \u001b[38;5;28;01mif\u001b[39;00m is_iterator(key):\n",
      "File \u001b[0;32m~/.pyenv/versions/3.10.6/envs/sentiscope/lib/python3.10/site-packages/pandas/core/series.py:1246\u001b[0m, in \u001b[0;36mSeries._get_value\u001b[0;34m(self, label, takeable)\u001b[0m\n\u001b[1;32m   1243\u001b[0m     \u001b[38;5;28;01mreturn\u001b[39;00m \u001b[38;5;28mself\u001b[39m\u001b[38;5;241m.\u001b[39m_values[label]\n\u001b[1;32m   1245\u001b[0m \u001b[38;5;66;03m# Similar to Index.get_value, but we do not fall back to positional\u001b[39;00m\n\u001b[0;32m-> 1246\u001b[0m loc \u001b[38;5;241m=\u001b[39m \u001b[38;5;28;43mself\u001b[39;49m\u001b[38;5;241;43m.\u001b[39;49m\u001b[43mindex\u001b[49m\u001b[38;5;241;43m.\u001b[39;49m\u001b[43mget_loc\u001b[49m\u001b[43m(\u001b[49m\u001b[43mlabel\u001b[49m\u001b[43m)\u001b[49m\n\u001b[1;32m   1248\u001b[0m \u001b[38;5;28;01mif\u001b[39;00m is_integer(loc):\n\u001b[1;32m   1249\u001b[0m     \u001b[38;5;28;01mreturn\u001b[39;00m \u001b[38;5;28mself\u001b[39m\u001b[38;5;241m.\u001b[39m_values[loc]\n",
      "File \u001b[0;32m~/.pyenv/versions/3.10.6/envs/sentiscope/lib/python3.10/site-packages/pandas/core/indexes/base.py:3819\u001b[0m, in \u001b[0;36mIndex.get_loc\u001b[0;34m(self, key)\u001b[0m\n\u001b[1;32m   3814\u001b[0m     \u001b[38;5;28;01mif\u001b[39;00m \u001b[38;5;28misinstance\u001b[39m(casted_key, \u001b[38;5;28mslice\u001b[39m) \u001b[38;5;129;01mor\u001b[39;00m (\n\u001b[1;32m   3815\u001b[0m         \u001b[38;5;28misinstance\u001b[39m(casted_key, abc\u001b[38;5;241m.\u001b[39mIterable)\n\u001b[1;32m   3816\u001b[0m         \u001b[38;5;129;01mand\u001b[39;00m \u001b[38;5;28many\u001b[39m(\u001b[38;5;28misinstance\u001b[39m(x, \u001b[38;5;28mslice\u001b[39m) \u001b[38;5;28;01mfor\u001b[39;00m x \u001b[38;5;129;01min\u001b[39;00m casted_key)\n\u001b[1;32m   3817\u001b[0m     ):\n\u001b[1;32m   3818\u001b[0m         \u001b[38;5;28;01mraise\u001b[39;00m InvalidIndexError(key)\n\u001b[0;32m-> 3819\u001b[0m     \u001b[38;5;28;01mraise\u001b[39;00m \u001b[38;5;167;01mKeyError\u001b[39;00m(key) \u001b[38;5;28;01mfrom\u001b[39;00m\u001b[38;5;250m \u001b[39m\u001b[38;5;21;01merr\u001b[39;00m\n\u001b[1;32m   3820\u001b[0m \u001b[38;5;28;01mexcept\u001b[39;00m \u001b[38;5;167;01mTypeError\u001b[39;00m:\n\u001b[1;32m   3821\u001b[0m     \u001b[38;5;66;03m# If we have a listlike key, _check_indexing_error will raise\u001b[39;00m\n\u001b[1;32m   3822\u001b[0m     \u001b[38;5;66;03m#  InvalidIndexError. Otherwise we fall through and re-raise\u001b[39;00m\n\u001b[1;32m   3823\u001b[0m     \u001b[38;5;66;03m#  the TypeError.\u001b[39;00m\n\u001b[1;32m   3824\u001b[0m     \u001b[38;5;28mself\u001b[39m\u001b[38;5;241m.\u001b[39m_check_indexing_error(key)\n",
      "\u001b[0;31mKeyError\u001b[0m: 'text'"
     ]
    }
   ],
   "source": [
    "preproc_train_sample_df = train_sample_df.apply(text_preprocessing)\n",
    "preproc_train_sample_df.info()"
   ]
  },
  {
   "cell_type": "code",
   "execution_count": null,
   "id": "04e686b5-dbca-4618-b93b-50f3b2e2a86f",
   "metadata": {},
   "outputs": [],
   "source": []
  }
 ],
 "metadata": {
  "kernelspec": {
   "display_name": "Python 3 (ipykernel)",
   "language": "python",
   "name": "python3"
  },
  "language_info": {
   "codemirror_mode": {
    "name": "ipython",
    "version": 3
   },
   "file_extension": ".py",
   "mimetype": "text/x-python",
   "name": "python",
   "nbconvert_exporter": "python",
   "pygments_lexer": "ipython3",
   "version": "3.10.6"
  }
 },
 "nbformat": 4,
 "nbformat_minor": 5
}
