{
 "cells": [
  {
   "cell_type": "code",
   "execution_count": null,
   "id": "3dcbe440-9a70-448c-abf0-7ae0c306e2b6",
   "metadata": {},
   "outputs": [],
   "source": []
  }
 ],
 "metadata": {
  "kernelspec": {
   "display_name": "",
   "name": ""
  },
  "language_info": {
   "name": ""
  }
 },
 "nbformat": 4,
 "nbformat_minor": 5
}
