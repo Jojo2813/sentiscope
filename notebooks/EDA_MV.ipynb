{
 "cells": [
  {
   "cell_type": "code",
   "execution_count": 4,
   "id": "398d1bff-c9db-4acb-9886-c8a77f2addb4",
   "metadata": {
    "execution": {
     "iopub.execute_input": "2025-06-09T11:07:12.790309Z",
     "iopub.status.busy": "2025-06-09T11:07:12.789338Z",
     "iopub.status.idle": "2025-06-09T11:07:12.799484Z",
     "shell.execute_reply": "2025-06-09T11:07:12.796822Z",
     "shell.execute_reply.started": "2025-06-09T11:07:12.790251Z"
    }
   },
   "outputs": [],
   "source": [
    "import os\n",
    "import bz2 \n",
    "import pandas as pd"
   ]
  },
  {
   "cell_type": "code",
   "execution_count": 2,
   "id": "dc5f1f7d-9c68-4fa6-bca7-02c9ab572182",
   "metadata": {
    "execution": {
     "iopub.execute_input": "2025-06-09T11:02:52.480503Z",
     "iopub.status.busy": "2025-06-09T11:02:52.479879Z",
     "iopub.status.idle": "2025-06-09T11:02:52.489280Z",
     "shell.execute_reply": "2025-06-09T11:02:52.487138Z",
     "shell.execute_reply.started": "2025-06-09T11:02:52.480456Z"
    }
   },
   "outputs": [],
   "source": [
    "path = \"../raw_data\""
   ]
  },
  {
   "cell_type": "code",
   "execution_count": 8,
   "id": "fbd8359b-3d40-45ad-abf2-c9ddfe219815",
   "metadata": {
    "execution": {
     "iopub.execute_input": "2025-06-09T11:13:51.367273Z",
     "iopub.status.busy": "2025-06-09T11:13:51.365872Z",
     "iopub.status.idle": "2025-06-09T11:13:51.377940Z",
     "shell.execute_reply": "2025-06-09T11:13:51.375737Z",
     "shell.execute_reply.started": "2025-06-09T11:13:51.367214Z"
    }
   },
   "outputs": [],
   "source": [
    "def parse_raw_files(root_path:str, file_path_string:str):\n",
    "    \n",
    "    file_path = os.path.join(root_path, file_path_string)\n",
    "\n",
    "    data = []\n",
    "    \n",
    "    with bz2.open(file_path, 'rt', encoding='utf-8') as f:\n",
    "        for line in f:\n",
    "            parts = line.strip().split(' ' , 1)\n",
    "            if len(parts) == 2:\n",
    "                label, text = parts\n",
    "                label = label.replace('__label__', '')\n",
    "                data.append((label, text))\n",
    "                \n",
    "    df = pd.DataFrame(data, columns=['label', 'text'])\n",
    "    df['label'] = df['label'].astype(int)\n",
    "    \n",
    "    return df"
   ]
  },
  {
   "cell_type": "code",
   "execution_count": 10,
   "id": "c54949a0-26e4-41a0-8ad7-7a7bf26b757e",
   "metadata": {
    "execution": {
     "iopub.execute_input": "2025-06-09T11:15:04.064542Z",
     "iopub.status.busy": "2025-06-09T11:15:04.063676Z",
     "iopub.status.idle": "2025-06-09T11:18:15.822609Z",
     "shell.execute_reply": "2025-06-09T11:18:15.821472Z",
     "shell.execute_reply.started": "2025-06-09T11:15:04.064410Z"
    }
   },
   "outputs": [
    {
     "data": {
      "text/html": [
       "<div>\n",
       "<style scoped>\n",
       "    .dataframe tbody tr th:only-of-type {\n",
       "        vertical-align: middle;\n",
       "    }\n",
       "\n",
       "    .dataframe tbody tr th {\n",
       "        vertical-align: top;\n",
       "    }\n",
       "\n",
       "    .dataframe thead th {\n",
       "        text-align: right;\n",
       "    }\n",
       "</style>\n",
       "<table border=\"1\" class=\"dataframe\">\n",
       "  <thead>\n",
       "    <tr style=\"text-align: right;\">\n",
       "      <th></th>\n",
       "      <th>label</th>\n",
       "      <th>text</th>\n",
       "    </tr>\n",
       "  </thead>\n",
       "  <tbody>\n",
       "    <tr>\n",
       "      <th>0</th>\n",
       "      <td>2</td>\n",
       "      <td>Stuning even for the non-gamer: This sound tra...</td>\n",
       "    </tr>\n",
       "    <tr>\n",
       "      <th>1</th>\n",
       "      <td>2</td>\n",
       "      <td>The best soundtrack ever to anything.: I'm rea...</td>\n",
       "    </tr>\n",
       "    <tr>\n",
       "      <th>2</th>\n",
       "      <td>2</td>\n",
       "      <td>Amazing!: This soundtrack is my favorite music...</td>\n",
       "    </tr>\n",
       "    <tr>\n",
       "      <th>3</th>\n",
       "      <td>2</td>\n",
       "      <td>Excellent Soundtrack: I truly like this soundt...</td>\n",
       "    </tr>\n",
       "    <tr>\n",
       "      <th>4</th>\n",
       "      <td>2</td>\n",
       "      <td>Remember, Pull Your Jaw Off The Floor After He...</td>\n",
       "    </tr>\n",
       "  </tbody>\n",
       "</table>\n",
       "</div>"
      ],
      "text/plain": [
       "   label                                               text\n",
       "0      2  Stuning even for the non-gamer: This sound tra...\n",
       "1      2  The best soundtrack ever to anything.: I'm rea...\n",
       "2      2  Amazing!: This soundtrack is my favorite music...\n",
       "3      2  Excellent Soundtrack: I truly like this soundt...\n",
       "4      2  Remember, Pull Your Jaw Off The Floor After He..."
      ]
     },
     "execution_count": 10,
     "metadata": {},
     "output_type": "execute_result"
    }
   ],
   "source": [
    "train_df = parse_raw_files(path,'train.ft.txt.bz2')\n",
    "train_df.head()"
   ]
  },
  {
   "cell_type": "code",
   "execution_count": 9,
   "id": "807a0c80-e6d6-4b69-83e8-19661fce159f",
   "metadata": {
    "execution": {
     "iopub.execute_input": "2025-06-09T11:13:54.230524Z",
     "iopub.status.busy": "2025-06-09T11:13:54.230068Z",
     "iopub.status.idle": "2025-06-09T11:14:17.205278Z",
     "shell.execute_reply": "2025-06-09T11:14:17.202872Z",
     "shell.execute_reply.started": "2025-06-09T11:13:54.230481Z"
    }
   },
   "outputs": [
    {
     "data": {
      "text/html": [
       "<div>\n",
       "<style scoped>\n",
       "    .dataframe tbody tr th:only-of-type {\n",
       "        vertical-align: middle;\n",
       "    }\n",
       "\n",
       "    .dataframe tbody tr th {\n",
       "        vertical-align: top;\n",
       "    }\n",
       "\n",
       "    .dataframe thead th {\n",
       "        text-align: right;\n",
       "    }\n",
       "</style>\n",
       "<table border=\"1\" class=\"dataframe\">\n",
       "  <thead>\n",
       "    <tr style=\"text-align: right;\">\n",
       "      <th></th>\n",
       "      <th>label</th>\n",
       "      <th>text</th>\n",
       "    </tr>\n",
       "  </thead>\n",
       "  <tbody>\n",
       "    <tr>\n",
       "      <th>0</th>\n",
       "      <td>2</td>\n",
       "      <td>Great CD: My lovely Pat has one of the GREAT v...</td>\n",
       "    </tr>\n",
       "    <tr>\n",
       "      <th>1</th>\n",
       "      <td>2</td>\n",
       "      <td>One of the best game music soundtracks - for a...</td>\n",
       "    </tr>\n",
       "    <tr>\n",
       "      <th>2</th>\n",
       "      <td>1</td>\n",
       "      <td>Batteries died within a year ...: I bought thi...</td>\n",
       "    </tr>\n",
       "    <tr>\n",
       "      <th>3</th>\n",
       "      <td>2</td>\n",
       "      <td>works fine, but Maha Energy is better: Check o...</td>\n",
       "    </tr>\n",
       "    <tr>\n",
       "      <th>4</th>\n",
       "      <td>2</td>\n",
       "      <td>Great for the non-audiophile: Reviewed quite a...</td>\n",
       "    </tr>\n",
       "  </tbody>\n",
       "</table>\n",
       "</div>"
      ],
      "text/plain": [
       "   label                                               text\n",
       "0      2  Great CD: My lovely Pat has one of the GREAT v...\n",
       "1      2  One of the best game music soundtracks - for a...\n",
       "2      1  Batteries died within a year ...: I bought thi...\n",
       "3      2  works fine, but Maha Energy is better: Check o...\n",
       "4      2  Great for the non-audiophile: Reviewed quite a..."
      ]
     },
     "execution_count": 9,
     "metadata": {},
     "output_type": "execute_result"
    }
   ],
   "source": [
    "test_df = parse_raw_files(path,'test.ft.txt.bz2')\n",
    "test_df.head()"
   ]
  },
  {
   "cell_type": "code",
   "execution_count": null,
   "id": "ea69aaa9-cef5-4031-bc33-58632aa3823a",
   "metadata": {},
   "outputs": [],
   "source": []
  }
 ],
 "metadata": {
  "kernelspec": {
   "display_name": "Python 3 (ipykernel)",
   "language": "python",
   "name": "python3"
  },
  "language_info": {
   "codemirror_mode": {
    "name": "ipython",
    "version": 3
   },
   "file_extension": ".py",
   "mimetype": "text/x-python",
   "name": "python",
   "nbconvert_exporter": "python",
   "pygments_lexer": "ipython3",
   "version": "3.10.6"
  }
 },
 "nbformat": 4,
 "nbformat_minor": 5
}
