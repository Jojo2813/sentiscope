{
 "cells": [
  {
   "cell_type": "markdown",
   "id": "e4867058",
   "metadata": {},
   "source": [
    "# Grid searching ML model and creating learning curve for best params"
   ]
  },
  {
   "cell_type": "code",
   "execution_count": null,
   "id": "ef4ebabc",
   "metadata": {},
   "outputs": [],
   "source": [
    "# Imports\n",
    "import pandas as pd\n",
    "import numpy as np\n",
    "from sklearn.model_selection import GridSearchCV, StratifiedKFold, cross_val_predict, train_test_split, learning_curve\n",
    "from sklearn.feature_extraction.text import TfidfVectorizer\n",
    "from sklearn.pipeline import Pipeline\n",
    "from sklearn.linear_model import LogisticRegression\n",
    "from sklearn.svm import LinearSVC\n",
    "from sklearn.metrics import classification_report, accuracy_score\n",
    "import matplotlib.pyplot as plt\n",
    "import joblib\n",
    "from datetime import datetime"
   ]
  },
  {
   "cell_type": "code",
   "execution_count": null,
   "id": "16ec79fa",
   "metadata": {},
   "outputs": [],
   "source": [
    "#Import pre-processed training data\n",
    "clean_df = pd.read_csv(\"../raw_data/train_df_ml_clean.csv\")\n",
    "clean_df = clean_df.dropna(subset=[\"clean_text\"])\n",
    "display(clean_df.head(), clean_df.shape, clean_df[\"label\"].value_counts(normalize=True))"
   ]
  },
  {
   "cell_type": "code",
   "execution_count": null,
   "id": "09c4f4c9",
   "metadata": {},
   "outputs": [],
   "source": [
    "X_train_small = clean_df[\"clean_text\"]\n",
    "y_train_small = clean_df[\"label\"].astype(int)\n",
    "display(X_train_small.shape, y_train_small.shape)"
   ]
  },
  {
   "cell_type": "code",
   "execution_count": null,
   "id": "4f584de4",
   "metadata": {},
   "outputs": [],
   "source": [
    "X_train = joblib.load(\"../preprocessing_pipelines/train_tfidf_matrix.pkl\")\n",
    "X_train.shape"
   ]
  },
  {
   "cell_type": "code",
   "execution_count": null,
   "id": "ab9df275",
   "metadata": {},
   "outputs": [],
   "source": [
    "X_train_reduced = X_train[:1800000]\n",
    "y_train_reduced = clean_df.iloc[:1800000,0]"
   ]
  },
  {
   "cell_type": "code",
   "execution_count": null,
   "id": "de3b558b",
   "metadata": {},
   "outputs": [],
   "source": [
    "# Implement GridSearch and model comparison | 36K observations\n",
    "# Cross-validate\n",
    "cv = StratifiedKFold(n_splits=5, shuffle=True, random_state=42)\n",
    "\n",
    "# Define params\n",
    "params = {\n",
    "    \"model__C\": [0.01, 0.1, 1, 10]\n",
    "}\n",
    "\n",
    "# Define models\n",
    "models = {\n",
    "    \"Logistic Regression\": LogisticRegression(max_iter=1000),\n",
    "    \"Linear SVC\": LinearSVC(max_iter=1000)\n",
    "}\n",
    "\n",
    "# Run GridSearch\n",
    "best_params_list = []\n",
    "for name, model in models.items():\n",
    "    print(f\"GridSearchCV for {name}\")\n",
    "\n",
    "    pipeline = Pipeline([\n",
    "        (\"model\", model)\n",
    "    ])\n",
    "\n",
    "    grid = GridSearchCV(\n",
    "        pipeline,\n",
    "        param_grid=params,\n",
    "        cv=cv,\n",
    "        scoring=\"accuracy\",\n",
    "        n_jobs=-1,\n",
    "        verbose=1\n",
    "    )\n",
    "\n",
    "    grid.fit(X_train_reduced, y_train_reduced)\n",
    "\n",
    "    print(f\"Best CV accuracy: {grid.best_score_}\")\n",
    "    print(f\"Best parameters: {grid.best_params_}\")\n",
    "    best_params = {\n",
    "        \"model\": name,\n",
    "        \"C\": grid.best_params_[\"model__C\"]\n",
    "    }\n",
    "    best_params_list.append(best_params)\n",
    "\n",
    "    # Create classification report\n",
    "    y_pred = grid.best_estimator_.predict(X_train_reduced)\n",
    "\n",
    "    print(\"Classification report:\")\n",
    "    print(classification_report(y_train_reduced, y_pred))"
   ]
  },
  {
   "cell_type": "code",
   "execution_count": null,
   "id": "31a95c10",
   "metadata": {},
   "outputs": [],
   "source": [
    "logreg_C = best_params_df.loc[\"Logistic Regression\"][\"C\"].astype(int)\n",
    "\n",
    "cv = StratifiedKFold(n_splits=5, shuffle=True, random_state=42)\n",
    "\n",
    "model = LogisticRegression(C=logreg_C, max_iter=1000)"
   ]
  },
  {
   "cell_type": "code",
   "execution_count": null,
   "id": "37d55d82",
   "metadata": {},
   "outputs": [],
   "source": [
    "# Estimate learning curve inputs\n",
    "train_sizes, train_scores, val_scores = learning_curve(\n",
    "    estimator=model,\n",
    "    X=X_train_reduced,\n",
    "    y=y_train_reduced,\n",
    "    train_sizes=np.linspace(0.1, 1.0, 5),\n",
    "    cv=cv,\n",
    "    scoring=\"accuracy\",\n",
    "    n_jobs=-1,\n",
    "    verbose=1\n",
    ")\n",
    "\n",
    "train_mean = np.mean(train_scores, axis=1)\n",
    "train_std = np.std(train_scores, axis=1)\n",
    "val_mean = np.mean(val_scores, axis=1)\n",
    "val_std = np.std(val_scores, axis=1)\n",
    "\n",
    "# Plot learning curve\n",
    "plt.figure(figsize=(10, 6))\n",
    "plt.plot(train_sizes, train_mean, marker=\"o\", label=\"Training accuracy\")\n",
    "plt.fill_between(train_sizes, train_mean - train_std, train_mean + train_std, alpha=0.2)\n",
    "\n",
    "plt.plot(train_sizes, val_mean, marker=\"s\", label=\"Validation accuracy\")\n",
    "plt.fill_between(train_sizes, val_mean - val_std, val_mean + val_std, alpha=0.2)\n",
    "\n",
    "plt.title(f\"Learning Curve (LogReg, C={logreg_C})\")\n",
    "plt.xlabel(\"Training Set Size\")\n",
    "plt.ylabel(\"Accuracy\")\n",
    "plt.legend()\n",
    "plt.grid(True)\n",
    "plt.show()"
   ]
  },
  {
   "cell_type": "code",
   "execution_count": null,
   "id": "c4e38c8a",
   "metadata": {},
   "outputs": [],
   "source": [
    "results_df = pd.DataFrame(grid.cv_results_)\n",
    "results_df.to_csv('../documentation/grid_search_ml.csv')"
   ]
  }
 ],
 "metadata": {
  "language_info": {
   "name": "python"
  }
 },
 "nbformat": 4,
 "nbformat_minor": 5
}
