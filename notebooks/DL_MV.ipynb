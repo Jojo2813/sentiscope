{
 "cells": [
  {
   "cell_type": "code",
   "execution_count": null,
   "id": "ba274863",
   "metadata": {},
   "outputs": [],
   "source": [
    "import pandas as pd\n",
    "from sklearn.model_selection import train_test_split\n",
    "from tensorflow.keras.preprocessing.text import text_to_word_sequence"
   ]
  },
  {
   "cell_type": "code",
   "execution_count": 1,
   "id": "6a266057",
   "metadata": {},
   "outputs": [],
   "source": [
    "path= \"../raw_data/train_df_ml_clean.csv\""
   ]
  },
  {
   "cell_type": "code",
   "execution_count": null,
   "id": "ee9c544c",
   "metadata": {},
   "outputs": [
    {
     "data": {
      "text/plain": [
       "1288134"
      ]
     },
     "execution_count": 4,
     "metadata": {},
     "output_type": "execute_result"
    }
   ],
   "source": [
    "clean_df = pd.read_csv(path)"
   ]
  },
  {
   "cell_type": "code",
   "execution_count": 5,
   "id": "e5be3665",
   "metadata": {},
   "outputs": [
    {
     "data": {
      "text/plain": [
       "128813"
      ]
     },
     "execution_count": 5,
     "metadata": {},
     "output_type": "execute_result"
    }
   ],
   "source": [
    "small_clean_df = clean_df.sample(frac=0.1)\n",
    "len(small_clean_df)"
   ]
  },
  {
   "cell_type": "code",
   "execution_count": 6,
   "id": "b7662e29",
   "metadata": {},
   "outputs": [
    {
     "data": {
      "text/html": [
       "<div>\n",
       "<style scoped>\n",
       "    .dataframe tbody tr th:only-of-type {\n",
       "        vertical-align: middle;\n",
       "    }\n",
       "\n",
       "    .dataframe tbody tr th {\n",
       "        vertical-align: top;\n",
       "    }\n",
       "\n",
       "    .dataframe thead th {\n",
       "        text-align: right;\n",
       "    }\n",
       "</style>\n",
       "<table border=\"1\" class=\"dataframe\">\n",
       "  <thead>\n",
       "    <tr style=\"text-align: right;\">\n",
       "      <th></th>\n",
       "      <th>label</th>\n",
       "      <th>text</th>\n",
       "      <th>clean_text</th>\n",
       "    </tr>\n",
       "  </thead>\n",
       "  <tbody>\n",
       "    <tr>\n",
       "      <th>22387</th>\n",
       "      <td>1</td>\n",
       "      <td>Read if only for the Rooster: Again David Seda...</td>\n",
       "      <td>read if only for the rooster again david sedar...</td>\n",
       "    </tr>\n",
       "    <tr>\n",
       "      <th>419673</th>\n",
       "      <td>1</td>\n",
       "      <td>Glass: An Artist's Medium: I liked this book v...</td>\n",
       "      <td>glass an artist medium i liked this book very ...</td>\n",
       "    </tr>\n",
       "    <tr>\n",
       "      <th>866848</th>\n",
       "      <td>1</td>\n",
       "      <td>The power of the Three Wolf Moon Shirt continu...</td>\n",
       "      <td>the power of the three wolf moon shirt continu...</td>\n",
       "    </tr>\n",
       "    <tr>\n",
       "      <th>394378</th>\n",
       "      <td>1</td>\n",
       "      <td>A Laurel for the Master: It's often said Chand...</td>\n",
       "      <td>a laurel for the master it often said chandler...</td>\n",
       "    </tr>\n",
       "    <tr>\n",
       "      <th>586389</th>\n",
       "      <td>1</td>\n",
       "      <td>Batteries, yeah!: Got them in a timely manner....</td>\n",
       "      <td>battery yeah got them in a timely manner neede...</td>\n",
       "    </tr>\n",
       "  </tbody>\n",
       "</table>\n",
       "</div>"
      ],
      "text/plain": [
       "        label                                               text  \\\n",
       "22387       1  Read if only for the Rooster: Again David Seda...   \n",
       "419673      1  Glass: An Artist's Medium: I liked this book v...   \n",
       "866848      1  The power of the Three Wolf Moon Shirt continu...   \n",
       "394378      1  A Laurel for the Master: It's often said Chand...   \n",
       "586389      1  Batteries, yeah!: Got them in a timely manner....   \n",
       "\n",
       "                                               clean_text  \n",
       "22387   read if only for the rooster again david sedar...  \n",
       "419673  glass an artist medium i liked this book very ...  \n",
       "866848  the power of the three wolf moon shirt continu...  \n",
       "394378  a laurel for the master it often said chandler...  \n",
       "586389  battery yeah got them in a timely manner neede...  "
      ]
     },
     "execution_count": 6,
     "metadata": {},
     "output_type": "execute_result"
    }
   ],
   "source": [
    "small_clean_df.head()"
   ]
  },
  {
   "cell_type": "code",
   "execution_count": 12,
   "id": "3194c0ae",
   "metadata": {},
   "outputs": [],
   "source": [
    "X_small = small_clean_df['clean_text'].to_numpy()\n",
    "y_small = small_clean_df['label'].to_numpy()\n",
    "\n",
    "X_train_small, X_val_small, y_train_small, y_val_small = train_test_split(\n",
    "    X_small, y_small, test_size=0.2, random_state=42\n",
    ")"
   ]
  },
  {
   "cell_type": "code",
   "execution_count": null,
   "id": "b5d4bab2",
   "metadata": {},
   "outputs": [
    {
     "data": {
      "text/plain": [
       "array(['doesnt work doesnt work tried it on three different tv and got weerd line with all resolution tried interlaced and progressive scan',\n",
       "       'i still know who wa the best actor will smith before this movie willy wa a good actor but now he is the whole best actor why watch this movie youll recognize',\n",
       "       'good mix of hip hoprb i first fell in love with olivia after her single bizounce came out now im a huge fan ever since her album droppedgreat voice great beat and great lyric are what make this album soooo goodif your a fan of hip hop and rb then i really suggest buying the album ya wont be dissapointed',\n",
       "       ...,\n",
       "       'this map get you everywhere when we first looked at this map we didnt think it would be accurate once we arrived in scotland we realized that it wa extremely accurate there are just not that many road there a we are used to in the u i would recommend this to anyone traveling in scotland',\n",
       "       'this book stink i dont mean to be frank or rude but i dont like survival story in general and this book really pushed it im sorry but wa this book supposed to be good or wa the author not sure if he wa writing or sleeping please for your own good do not read this book',\n",
       "       'good for kid but otherwise get a metal one this thermos food jar is will keep food hot for a few hour or so it good for kid lunch maybe but not for someone who work long day or spends alot of time outdoors or in cold weather take the money youd invest in this add a few more dollar and get a widemouthed metal usmade thermos food jar on ebay and youll be alot happier'],\n",
       "      shape=(103050,), dtype=object)"
      ]
     },
     "execution_count": 16,
     "metadata": {},
     "output_type": "execute_result"
    }
   ],
   "source": []
  },
  {
   "cell_type": "code",
   "execution_count": null,
   "id": "efcd329c",
   "metadata": {},
   "outputs": [],
   "source": []
  }
 ],
 "metadata": {
  "kernelspec": {
   "display_name": "sentiscope",
   "language": "python",
   "name": "python3"
  },
  "language_info": {
   "codemirror_mode": {
    "name": "ipython",
    "version": 3
   },
   "file_extension": ".py",
   "mimetype": "text/x-python",
   "name": "python",
   "nbconvert_exporter": "python",
   "pygments_lexer": "ipython3",
   "version": "3.10.6"
  }
 },
 "nbformat": 4,
 "nbformat_minor": 5
}
