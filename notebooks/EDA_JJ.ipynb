{
 "cells": [
  {
   "cell_type": "markdown",
   "id": "84a83e6f-d973-4d98-b2e2-21f37f8d3460",
   "metadata": {},
   "source": [
    "# SentiScope"
   ]
  },
  {
   "cell_type": "markdown",
   "id": "da8ccbab-5287-4d83-8e8e-21f9b713a7be",
   "metadata": {},
   "source": [
    "## Baseline Model"
   ]
  },
  {
   "cell_type": "code",
   "execution_count": 13,
   "id": "dac6bc7e-162d-4d18-bf7e-d3589cd15b98",
   "metadata": {
    "execution": {
     "iopub.status.busy": "2025-06-09T13:08:55.249634Z",
     "iopub.status.idle": "2025-06-09T13:08:55.250460Z",
     "shell.execute_reply": "2025-06-09T13:08:55.250089Z",
     "shell.execute_reply.started": "2025-06-09T13:08:55.250059Z"
    }
   },
   "outputs": [],
   "source": [
    "# Imports\n",
    "import pandas as pd\n",
    "import numpy as np\n",
    "from sklearn.model_selection import GridSearchCV, StratifiedKFold, cross_val_predict, train_test_split, learning_curve\n",
    "from sklearn.feature_extraction.text import TfidfVectorizer\n",
    "from sklearn.pipeline import Pipeline\n",
    "from sklearn.linear_model import LogisticRegression\n",
    "from sklearn.svm import LinearSVC\n",
    "from sklearn.metrics import classification_report, accuracy_score\n",
    "import matplotlib.pyplot as plt\n",
    "import joblib\n",
    "from datetime import datetime"
   ]
  },
  {
   "cell_type": "markdown",
   "id": "e2fdb885",
   "metadata": {},
   "source": [
    "## Model comparison via GridSearch (small dataset)"
   ]
  },
  {
   "cell_type": "code",
   "execution_count": 14,
   "id": "15a05810",
   "metadata": {},
   "outputs": [
    {
     "data": {
      "text/html": [
       "<div>\n",
       "<style scoped>\n",
       "    .dataframe tbody tr th:only-of-type {\n",
       "        vertical-align: middle;\n",
       "    }\n",
       "\n",
       "    .dataframe tbody tr th {\n",
       "        vertical-align: top;\n",
       "    }\n",
       "\n",
       "    .dataframe thead th {\n",
       "        text-align: right;\n",
       "    }\n",
       "</style>\n",
       "<table border=\"1\" class=\"dataframe\">\n",
       "  <thead>\n",
       "    <tr style=\"text-align: right;\">\n",
       "      <th></th>\n",
       "      <th>label</th>\n",
       "      <th>text</th>\n",
       "      <th>clean_text</th>\n",
       "    </tr>\n",
       "  </thead>\n",
       "  <tbody>\n",
       "    <tr>\n",
       "      <th>0</th>\n",
       "      <td>1</td>\n",
       "      <td>Stuning even for the non-gamer: This sound tra...</td>\n",
       "      <td>stuning even for the nongamer this sound track...</td>\n",
       "    </tr>\n",
       "    <tr>\n",
       "      <th>1</th>\n",
       "      <td>1</td>\n",
       "      <td>The best soundtrack ever to anything.: I'm rea...</td>\n",
       "      <td>the best soundtrack ever to anything im readin...</td>\n",
       "    </tr>\n",
       "    <tr>\n",
       "      <th>2</th>\n",
       "      <td>1</td>\n",
       "      <td>Amazing!: This soundtrack is my favorite music...</td>\n",
       "      <td>amazing this soundtrack is my favorite music o...</td>\n",
       "    </tr>\n",
       "    <tr>\n",
       "      <th>3</th>\n",
       "      <td>1</td>\n",
       "      <td>Excellent Soundtrack: I truly like this soundt...</td>\n",
       "      <td>excellent soundtrack i truly like this soundtr...</td>\n",
       "    </tr>\n",
       "    <tr>\n",
       "      <th>4</th>\n",
       "      <td>1</td>\n",
       "      <td>Remember, Pull Your Jaw Off The Floor After He...</td>\n",
       "      <td>remember pull your jaw off the floor after hea...</td>\n",
       "    </tr>\n",
       "  </tbody>\n",
       "</table>\n",
       "</div>"
      ],
      "text/plain": [
       "   label                                               text  \\\n",
       "0      1  Stuning even for the non-gamer: This sound tra...   \n",
       "1      1  The best soundtrack ever to anything.: I'm rea...   \n",
       "2      1  Amazing!: This soundtrack is my favorite music...   \n",
       "3      1  Excellent Soundtrack: I truly like this soundt...   \n",
       "4      1  Remember, Pull Your Jaw Off The Floor After He...   \n",
       "\n",
       "                                          clean_text  \n",
       "0  stuning even for the nongamer this sound track...  \n",
       "1  the best soundtrack ever to anything im readin...  \n",
       "2  amazing this soundtrack is my favorite music o...  \n",
       "3  excellent soundtrack i truly like this soundtr...  \n",
       "4  remember pull your jaw off the floor after hea...  "
      ]
     },
     "metadata": {},
     "output_type": "display_data"
    },
    {
     "data": {
      "text/plain": [
       "(36000, 3)"
      ]
     },
     "metadata": {},
     "output_type": "display_data"
    },
    {
     "data": {
      "text/plain": [
       "label\n",
       "1    0.505\n",
       "0    0.495\n",
       "Name: proportion, dtype: float64"
      ]
     },
     "metadata": {},
     "output_type": "display_data"
    }
   ],
   "source": [
    "#Import pre-processed training data | 36K observations\n",
    "n_rows = 36000\n",
    "clean_df_small = pd.read_csv(\"../raw_data/train_df_ml_clean.csv\", nrows=n_rows)\n",
    "clean_df_small = clean_df_small.dropna(subset=[\"clean_text\"])\n",
    "display(clean_df_small.head(), clean_df_small.shape, clean_df_small[\"label\"].value_counts(normalize=True))"
   ]
  },
  {
   "cell_type": "code",
   "execution_count": 15,
   "id": "74b3b3a6",
   "metadata": {},
   "outputs": [
    {
     "data": {
      "text/plain": [
       "(36000,)"
      ]
     },
     "metadata": {},
     "output_type": "display_data"
    },
    {
     "data": {
      "text/plain": [
       "(36000,)"
      ]
     },
     "metadata": {},
     "output_type": "display_data"
    }
   ],
   "source": [
    "#Split training data into X and y | 36K observations\n",
    "X_train_small = clean_df_small[\"clean_text\"]\n",
    "y_train_small = clean_df_small[\"label\"].astype(int)\n",
    "display(X_train_small.shape, y_train_small.shape)"
   ]
  },
  {
   "cell_type": "code",
   "execution_count": 16,
   "id": "bf333a51",
   "metadata": {},
   "outputs": [
    {
     "name": "stdout",
     "output_type": "stream",
     "text": [
      "GridSearchCV for Logistic Regression\n",
      "Fitting 5 folds for each of 12 candidates, totalling 60 fits\n",
      "Best CV accuracy: 0.8965277777777777\n",
      "Best parameters: {'model__C': 1, 'vectorizer__max_features': 10000}\n",
      "Classification report:\n",
      "              precision    recall  f1-score   support\n",
      "\n",
      "           0       0.93      0.93      0.93     17820\n",
      "           1       0.93      0.93      0.93     18180\n",
      "\n",
      "    accuracy                           0.93     36000\n",
      "   macro avg       0.93      0.93      0.93     36000\n",
      "weighted avg       0.93      0.93      0.93     36000\n",
      "\n",
      "GridSearchCV for Linear SVC\n",
      "Fitting 5 folds for each of 12 candidates, totalling 60 fits\n",
      "Best CV accuracy: 0.8972777777777777\n",
      "Best parameters: {'model__C': 0.1, 'vectorizer__max_features': 10000}\n",
      "Classification report:\n",
      "              precision    recall  f1-score   support\n",
      "\n",
      "           0       0.93      0.93      0.93     17820\n",
      "           1       0.93      0.93      0.93     18180\n",
      "\n",
      "    accuracy                           0.93     36000\n",
      "   macro avg       0.93      0.93      0.93     36000\n",
      "weighted avg       0.93      0.93      0.93     36000\n",
      "\n"
     ]
    }
   ],
   "source": [
    "# Implement GridSearch and model comparison | 36K observations\n",
    "# Cross-validate\n",
    "cv = StratifiedKFold(n_splits=5, shuffle=True, random_state=42)\n",
    "\n",
    "# Vectorize\n",
    "vectorizer = TfidfVectorizer(ngram_range=(1,2))\n",
    "\n",
    "# Define params\n",
    "params = {\n",
    "    \"vectorizer__max_features\": [1000, 5000, 10000],\n",
    "    \"model__C\": [0.01, 0.1, 1, 10]\n",
    "}\n",
    "\n",
    "# Define models\n",
    "models = {\n",
    "    \"Logistic Regression\": LogisticRegression(max_iter=1000),\n",
    "    \"Linear SVC\": LinearSVC(max_iter=1000)\n",
    "}\n",
    "\n",
    "# Run GridSearch\n",
    "best_params_list = []\n",
    "for name, model in models.items():\n",
    "    print(f\"GridSearchCV for {name}\")\n",
    "\n",
    "    pipeline = Pipeline([\n",
    "        (\"vectorizer\", vectorizer),\n",
    "        (\"model\", model)\n",
    "    ])\n",
    "\n",
    "    grid = GridSearchCV(\n",
    "        pipeline,\n",
    "        param_grid=params,\n",
    "        cv=cv,\n",
    "        scoring=\"accuracy\",\n",
    "        n_jobs=-1,\n",
    "        verbose=1\n",
    "    )\n",
    "\n",
    "    grid.fit(X_train_small, y_train_small)\n",
    "\n",
    "    print(f\"Best CV accuracy: {grid.best_score_}\")\n",
    "    print(f\"Best parameters: {grid.best_params_}\")\n",
    "    best_params = {\n",
    "        \"model\": name,\n",
    "        \"max_features\": grid.best_params_[\"vectorizer__max_features\"],\n",
    "        \"C\": grid.best_params_[\"model__C\"]\n",
    "    }\n",
    "    best_params_list.append(best_params)\n",
    "\n",
    "    # Create classification report\n",
    "    y_pred = grid.best_estimator_.predict(X_train_small)\n",
    "\n",
    "    print(\"Classification report:\")\n",
    "    print(classification_report(y_train_small, y_pred))"
   ]
  },
  {
   "cell_type": "code",
   "execution_count": 6,
   "id": "593aeaa0",
   "metadata": {},
   "outputs": [
    {
     "data": {
      "text/html": [
       "<div>\n",
       "<style scoped>\n",
       "    .dataframe tbody tr th:only-of-type {\n",
       "        vertical-align: middle;\n",
       "    }\n",
       "\n",
       "    .dataframe tbody tr th {\n",
       "        vertical-align: top;\n",
       "    }\n",
       "\n",
       "    .dataframe thead th {\n",
       "        text-align: right;\n",
       "    }\n",
       "</style>\n",
       "<table border=\"1\" class=\"dataframe\">\n",
       "  <thead>\n",
       "    <tr style=\"text-align: right;\">\n",
       "      <th></th>\n",
       "      <th>max_features</th>\n",
       "      <th>C</th>\n",
       "    </tr>\n",
       "    <tr>\n",
       "      <th>model</th>\n",
       "      <th></th>\n",
       "      <th></th>\n",
       "    </tr>\n",
       "  </thead>\n",
       "  <tbody>\n",
       "    <tr>\n",
       "      <th>Logistic Regression</th>\n",
       "      <td>10000</td>\n",
       "      <td>10</td>\n",
       "    </tr>\n",
       "    <tr>\n",
       "      <th>Linear SVC</th>\n",
       "      <td>10000</td>\n",
       "      <td>1</td>\n",
       "    </tr>\n",
       "  </tbody>\n",
       "</table>\n",
       "</div>"
      ],
      "text/plain": [
       "                     max_features   C\n",
       "model                                \n",
       "Logistic Regression         10000  10\n",
       "Linear SVC                  10000   1"
      ]
     },
     "metadata": {},
     "output_type": "display_data"
    }
   ],
   "source": [
    "# Save best params\n",
    "best_params_df = pd.DataFrame(best_params_list)\n",
    "best_params_df.set_index(\"model\", inplace=True)\n",
    "display(best_params_df)"
   ]
  },
  {
   "cell_type": "markdown",
   "id": "b70bb85b",
   "metadata": {},
   "source": [
    "## Learning curve for LogReg (large dataset)"
   ]
  },
  {
   "cell_type": "code",
   "execution_count": null,
   "id": "bde5ec62",
   "metadata": {},
   "outputs": [
    {
     "data": {
      "text/html": [
       "<div>\n",
       "<style scoped>\n",
       "    .dataframe tbody tr th:only-of-type {\n",
       "        vertical-align: middle;\n",
       "    }\n",
       "\n",
       "    .dataframe tbody tr th {\n",
       "        vertical-align: top;\n",
       "    }\n",
       "\n",
       "    .dataframe thead th {\n",
       "        text-align: right;\n",
       "    }\n",
       "</style>\n",
       "<table border=\"1\" class=\"dataframe\">\n",
       "  <thead>\n",
       "    <tr style=\"text-align: right;\">\n",
       "      <th></th>\n",
       "      <th>label</th>\n",
       "      <th>text</th>\n",
       "      <th>clean_text</th>\n",
       "    </tr>\n",
       "  </thead>\n",
       "  <tbody>\n",
       "    <tr>\n",
       "      <th>0</th>\n",
       "      <td>1</td>\n",
       "      <td>Stuning even for the non-gamer: This sound tra...</td>\n",
       "      <td>stuning even for the nongamer this sound track...</td>\n",
       "    </tr>\n",
       "    <tr>\n",
       "      <th>1</th>\n",
       "      <td>1</td>\n",
       "      <td>The best soundtrack ever to anything.: I'm rea...</td>\n",
       "      <td>the best soundtrack ever to anything im readin...</td>\n",
       "    </tr>\n",
       "    <tr>\n",
       "      <th>2</th>\n",
       "      <td>1</td>\n",
       "      <td>Amazing!: This soundtrack is my favorite music...</td>\n",
       "      <td>amazing this soundtrack is my favorite music o...</td>\n",
       "    </tr>\n",
       "    <tr>\n",
       "      <th>3</th>\n",
       "      <td>1</td>\n",
       "      <td>Excellent Soundtrack: I truly like this soundt...</td>\n",
       "      <td>excellent soundtrack i truly like this soundtr...</td>\n",
       "    </tr>\n",
       "    <tr>\n",
       "      <th>4</th>\n",
       "      <td>1</td>\n",
       "      <td>Remember, Pull Your Jaw Off The Floor After He...</td>\n",
       "      <td>remember pull your jaw off the floor after hea...</td>\n",
       "    </tr>\n",
       "  </tbody>\n",
       "</table>\n",
       "</div>"
      ],
      "text/plain": [
       "   label                                               text  \\\n",
       "0      1  Stuning even for the non-gamer: This sound tra...   \n",
       "1      1  The best soundtrack ever to anything.: I'm rea...   \n",
       "2      1  Amazing!: This soundtrack is my favorite music...   \n",
       "3      1  Excellent Soundtrack: I truly like this soundt...   \n",
       "4      1  Remember, Pull Your Jaw Off The Floor After He...   \n",
       "\n",
       "                                          clean_text  \n",
       "0  stuning even for the nongamer this sound track...  \n",
       "1  the best soundtrack ever to anything im readin...  \n",
       "2  amazing this soundtrack is my favorite music o...  \n",
       "3  excellent soundtrack i truly like this soundtr...  \n",
       "4  remember pull your jaw off the floor after hea...  "
      ]
     },
     "metadata": {},
     "output_type": "display_data"
    },
    {
     "data": {
      "text/plain": [
       "(5000, 3)"
      ]
     },
     "metadata": {},
     "output_type": "display_data"
    },
    {
     "data": {
      "text/plain": [
       "label\n",
       "0    0.5384\n",
       "1    0.4616\n",
       "Name: proportion, dtype: float64"
      ]
     },
     "metadata": {},
     "output_type": "display_data"
    }
   ],
   "source": [
    "#Import pre-processed training data | 360K observations\n",
    "n_rows = 360000\n",
    "clean_df_large = pd.read_csv(\"../raw_data/train_df_ml_clean.csv\", nrows=n_rows)\n",
    "clean_df_large = clean_df_large.dropna(subset=[\"clean_text\"])\n",
    "display(clean_df_large.head(), clean_df_large.shape, clean_df_large[\"label\"].value_counts(normalize=True))"
   ]
  },
  {
   "cell_type": "code",
   "execution_count": 8,
   "id": "1c28ab99",
   "metadata": {},
   "outputs": [
    {
     "data": {
      "text/plain": [
       "(5000,)"
      ]
     },
     "metadata": {},
     "output_type": "display_data"
    },
    {
     "data": {
      "text/plain": [
       "(5000,)"
      ]
     },
     "metadata": {},
     "output_type": "display_data"
    }
   ],
   "source": [
    "#Split training data into X and y | 36K observations\n",
    "X_train_large = clean_df_large[\"clean_text\"]\n",
    "y_train_large = clean_df_large[\"label\"].astype(int)\n",
    "display(X_train_large.shape, y_train_large.shape)"
   ]
  },
  {
   "cell_type": "code",
   "execution_count": 22,
   "id": "b392d53b",
   "metadata": {},
   "outputs": [],
   "source": [
    "max_features = best_params_df.loc[\"Logistic Regression\"][\"max_features\"].astype(int)\n",
    "logreg_C = best_params_df.loc[\"Logistic Regression\"][\"C\"].astype(int)\n",
    "\n",
    "vectorizer = TfidfVectorizer(ngram_range=(1,2), max_features=max_features)\n",
    "X_train_large_vec = vectorizer.fit_transform(X_train_large)\n",
    "\n",
    "cv = StratifiedKFold(n_splits=5, shuffle=True, random_state=42)\n",
    "\n",
    "model = LogisticRegression(C=logreg_C, max_iter=1000)"
   ]
  },
  {
   "cell_type": "code",
   "execution_count": 10,
   "id": "1002b550",
   "metadata": {},
   "outputs": [
    {
     "name": "stdout",
     "output_type": "stream",
     "text": [
      "[learning_curve] Training set sizes: [ 400 1300 2200 3100 4000]\n"
     ]
    },
    {
     "name": "stderr",
     "output_type": "stream",
     "text": [
      "[Parallel(n_jobs=-1)]: Using backend LokyBackend with 4 concurrent workers.\n",
      "[Parallel(n_jobs=-1)]: Done  25 out of  25 | elapsed:    2.8s finished\n"
     ]
    },
    {
     "data": {
      "image/png": "[encoded data removed]",
      "text/plain": [
       "<Figure size 1000x600 with 1 Axes>"
      ]
     },
     "metadata": {},
     "output_type": "display_data"
    }
   ],
   "source": [
    "# Estimate learning curve inputs\n",
    "train_sizes, train_scores, val_scores = learning_curve(\n",
    "    estimator=model,\n",
    "    X=X_train_large_vec,\n",
    "    y=y_train_large,\n",
    "    train_sizes=np.linspace(0.1, 1.0, 5),\n",
    "    cv=cv,\n",
    "    scoring=\"accuracy\",\n",
    "    n_jobs=-1,\n",
    "    verbose=1\n",
    ")\n",
    "\n",
    "train_mean = np.mean(train_scores, axis=1)\n",
    "train_std = np.std(train_scores, axis=1)\n",
    "val_mean = np.mean(val_scores, axis=1)\n",
    "val_std = np.std(val_scores, axis=1)\n",
    "\n",
    "# Plot learning curve\n",
    "plt.figure(figsize=(10, 6))\n",
    "plt.plot(train_sizes, train_mean, marker=\"o\", label=\"Training accuracy\")\n",
    "plt.fill_between(train_sizes, train_mean - train_std, train_mean + train_std, alpha=0.2)\n",
    "\n",
    "plt.plot(train_sizes, val_mean, marker=\"s\", label=\"Validation accuracy\")\n",
    "plt.fill_between(train_sizes, val_mean - val_std, val_mean + val_std, alpha=0.2)\n",
    "\n",
    "plt.title(f\"Learning Curve (LogReg, C={logreg_C})\")\n",
    "plt.xlabel(\"Training Set Size\")\n",
    "plt.ylabel(\"Accuracy\")\n",
    "plt.legend()\n",
    "plt.grid(True)\n",
    "plt.show()"
   ]
  },
  {
   "cell_type": "markdown",
   "id": "8b7995b2",
   "metadata": {},
   "source": [
    "## Training, scoring and saving of LogReg (large dataset)"
   ]
  },
  {
   "cell_type": "code",
   "execution_count": null,
   "id": "8920968e",
   "metadata": {},
   "outputs": [
    {
     "data": {
      "text/html": [
       "<div>\n",
       "<style scoped>\n",
       "    .dataframe tbody tr th:only-of-type {\n",
       "        vertical-align: middle;\n",
       "    }\n",
       "\n",
       "    .dataframe tbody tr th {\n",
       "        vertical-align: top;\n",
       "    }\n",
       "\n",
       "    .dataframe thead th {\n",
       "        text-align: right;\n",
       "    }\n",
       "</style>\n",
       "<table border=\"1\" class=\"dataframe\">\n",
       "  <thead>\n",
       "    <tr style=\"text-align: right;\">\n",
       "      <th></th>\n",
       "      <th>label</th>\n",
       "      <th>text</th>\n",
       "      <th>clean_text</th>\n",
       "    </tr>\n",
       "  </thead>\n",
       "  <tbody>\n",
       "    <tr>\n",
       "      <th>0</th>\n",
       "      <td>1</td>\n",
       "      <td>Great CD: My lovely Pat has one of the GREAT v...</td>\n",
       "      <td>great cd my lovely pat ha one of the great voi...</td>\n",
       "    </tr>\n",
       "    <tr>\n",
       "      <th>1</th>\n",
       "      <td>1</td>\n",
       "      <td>One of the best game music soundtracks - for a...</td>\n",
       "      <td>one of the best game music soundtrack for a ga...</td>\n",
       "    </tr>\n",
       "    <tr>\n",
       "      <th>2</th>\n",
       "      <td>0</td>\n",
       "      <td>Batteries died within a year ...: I bought thi...</td>\n",
       "      <td>battery died within a year i bought this charg...</td>\n",
       "    </tr>\n",
       "    <tr>\n",
       "      <th>3</th>\n",
       "      <td>1</td>\n",
       "      <td>works fine, but Maha Energy is better: Check o...</td>\n",
       "      <td>work fine but maha energy is better check out ...</td>\n",
       "    </tr>\n",
       "    <tr>\n",
       "      <th>4</th>\n",
       "      <td>1</td>\n",
       "      <td>Great for the non-audiophile: Reviewed quite a...</td>\n",
       "      <td>great for the nonaudiophile reviewed quite a b...</td>\n",
       "    </tr>\n",
       "  </tbody>\n",
       "</table>\n",
       "</div>"
      ],
      "text/plain": [
       "   label                                               text  \\\n",
       "0      1  Great CD: My lovely Pat has one of the GREAT v...   \n",
       "1      1  One of the best game music soundtracks - for a...   \n",
       "2      0  Batteries died within a year ...: I bought thi...   \n",
       "3      1  works fine, but Maha Energy is better: Check o...   \n",
       "4      1  Great for the non-audiophile: Reviewed quite a...   \n",
       "\n",
       "                                          clean_text  \n",
       "0  great cd my lovely pat ha one of the great voi...  \n",
       "1  one of the best game music soundtrack for a ga...  \n",
       "2  battery died within a year i bought this charg...  \n",
       "3  work fine but maha energy is better check out ...  \n",
       "4  great for the nonaudiophile reviewed quite a b...  "
      ]
     },
     "metadata": {},
     "output_type": "display_data"
    },
    {
     "data": {
      "text/plain": [
       "(10000, 3)"
      ]
     },
     "metadata": {},
     "output_type": "display_data"
    },
    {
     "data": {
      "text/plain": [
       "label\n",
       "1    0.5125\n",
       "0    0.4875\n",
       "Name: proportion, dtype: float64"
      ]
     },
     "metadata": {},
     "output_type": "display_data"
    }
   ],
   "source": [
    "#Import pre-processed test data\n",
    "test_df = pd.read_csv(\"../raw_data/test_df_ml_clean.csv\")\n",
    "test_df = test_df.dropna(subset=[\"clean_text\"])\n",
    "display(test_df.head(), test_df.shape, test_df[\"label\"].value_counts(normalize=True))"
   ]
  },
  {
   "cell_type": "code",
   "execution_count": 28,
   "id": "11ae8029",
   "metadata": {},
   "outputs": [
    {
     "data": {
      "text/plain": [
       "(10000,)"
      ]
     },
     "metadata": {},
     "output_type": "display_data"
    },
    {
     "data": {
      "text/plain": [
       "(10000,)"
      ]
     },
     "metadata": {},
     "output_type": "display_data"
    }
   ],
   "source": [
    "#Split training data into X and y | 36K observations\n",
    "X_test = test_df[\"clean_text\"]\n",
    "y_test = test_df[\"label\"].astype(int)\n",
    "display(X_test.shape, y_test.shape)"
   ]
  },
  {
   "cell_type": "code",
   "execution_count": 29,
   "id": "56d737c6",
   "metadata": {},
   "outputs": [],
   "source": [
    "X_test_vec = vectorizer.transform(X_test)"
   ]
  },
  {
   "cell_type": "code",
   "execution_count": 30,
   "id": "09bedd08",
   "metadata": {},
   "outputs": [
    {
     "name": "stdout",
     "output_type": "stream",
     "text": [
      "Training model...\n",
      "Test performance:\n",
      "Accuracy: 0.8613\n",
      "              precision    recall  f1-score   support\n",
      "\n",
      "           0       0.85      0.87      0.86      4875\n",
      "           1       0.87      0.86      0.86      5125\n",
      "\n",
      "    accuracy                           0.86     10000\n",
      "   macro avg       0.86      0.86      0.86     10000\n",
      "weighted avg       0.86      0.86      0.86     10000\n",
      "\n"
     ]
    }
   ],
   "source": [
    "# Train and score Logistic Regression with optimized params\n",
    "print(\"Training model...\")\n",
    "model.fit(X_train_large_vec, y_train_large)\n",
    "\n",
    "# Check performance on test set\n",
    "print(\"Test performance:\")\n",
    "y_test_pred = model.predict(X_test_vec)\n",
    "acc_test = accuracy_score(y_test, y_test_pred)\n",
    "print(f\"Accuracy: {acc_test}\")\n",
    "print(classification_report(y_test, y_test_pred))"
   ]
  },
  {
   "cell_type": "code",
   "execution_count": 31,
   "id": "80ebaf6d",
   "metadata": {},
   "outputs": [
    {
     "name": "stdout",
     "output_type": "stream",
     "text": [
      "Model saved to: logreg_base_model_20250611_1120.pkl\n"
     ]
    }
   ],
   "source": [
    "# Save model\n",
    "timestamp = datetime.now().strftime(\"%Y%m%d_%H%M\")\n",
    "model_path = f\"logreg_base_model_{timestamp}.pkl\"\n",
    "joblib.dump(pipeline, model_path)\n",
    "print(f\"Model saved to: {model_path}\")"
   ]
  },
  {
   "cell_type": "markdown",
   "id": "af39c187",
   "metadata": {},
   "source": [
    "## Viszualization of User Input"
   ]
  },
  {
   "cell_type": "code",
   "execution_count": 57,
   "id": "755983e2",
   "metadata": {},
   "outputs": [],
   "source": [
    "import string\n",
    "import re\n",
    "from nltk import word_tokenize\n",
    "from nltk.stem import WordNetLemmatizer\n",
    "def clean_text(text):\n",
    "    #No whitespaces in beginning or end\n",
    "    text = text.strip()\n",
    "    #lowercase\n",
    "    text= text.lower()\n",
    "    #remove numbers\n",
    "    text = re.sub(r'\\b\\d+\\b', '', text)\n",
    "\n",
    "    text = re.sub(rf\"[{re.escape(string.punctuation)}]\", '', text)\n",
    "\n",
    "    # Tokenizing\n",
    "    tokenized = word_tokenize(text)\n",
    "    # Lemmatizing\n",
    "    lemmatizer = WordNetLemmatizer()\n",
    "    lemmatized = [lemmatizer.lemmatize(word) for word in tokenized]\n",
    "    text = \" \".join(lemmatized)\n",
    "    return text"
   ]
  },
  {
   "cell_type": "code",
   "execution_count": null,
   "id": "892762d5",
   "metadata": {},
   "outputs": [],
   "source": [
    "from IPython.display import display, HTML\n",
    "\n",
    "def visualize_input_importance(text, vectorizer, model, base_size=16, scale=40, top_n=2):\n",
    "    # Clean and vectorize input\n",
    "    words = text.split()\n",
    "    cleaned_text = clean_text(text)\n",
    "    cleaned_words = cleaned_text.split()\n",
    "    X_input = vectorizer.transform([cleaned_text])\n",
    "    feature_names = vectorizer.get_feature_names_out()\n",
    "    coefs = model.coef_[0]\n",
    "\n",
    "    # Get relevant inputs words with corresponding contributions\n",
    "    input_indices = X_input.nonzero()[1]\n",
    "    tfidf_values = X_input.toarray()[0][input_indices]\n",
    "    input_tokens = [feature_names[i] for i in input_indices]\n",
    "    word_coefs = coefs[input_indices]\n",
    "    contributions = tfidf_values * word_coefs\n",
    "    contrib_dict = dict(zip(input_tokens, contributions))\n",
    "\n",
    "    # Find top word contributors\n",
    "    sorted_items = sorted(contrib_dict.items(), key=lambda x: x[1])\n",
    "    top_negative = [w for w, _ in sorted_items[:top_n]]\n",
    "    top_positive = [w for w, _ in sorted_items[-top_n:]]\n",
    "\n",
    "    # Visualize input with color for top negatives/ positives and font size based on contribution\n",
    "    highlighted_text = \"\"\n",
    "    for word, clean_word in zip(words, cleaned_words):\n",
    "        contrib = contrib_dict.get(clean_word, 0)\n",
    "        size = base_size + min(abs(contrib) * scale, scale)\n",
    "        size = round(size, 1)\n",
    "        color = \"green\" if clean_word in top_positive else \"red\" if clean_word in top_negative else \"grey\"\n",
    "\n",
    "        highlighted_text += f'<span style=\"font-size:{size}px; color:{color}\">{word}</span> '\n",
    "\n",
    "    display(HTML(f\"<p>{highlighted_text.strip()}</p>\"))"
   ]
  },
  {
   "cell_type": "code",
   "execution_count": 82,
   "id": "22e29fba",
   "metadata": {},
   "outputs": [
    {
     "data": {
      "text/html": [
       "<p><span style=\"font-size:23.6px; color:grey\">The</span> <span style=\"font-size:23.3px; color:grey\">service</span> <span style=\"font-size:37.2px; color:red\">was</span> <span style=\"font-size:23.6px; color:grey\">slow</span> <span style=\"font-size:24.1px; color:green\">and</span> <span style=\"font-size:23.6px; color:grey\">the</span> <span style=\"font-size:19.8px; color:grey\">product</span> <span style=\"font-size:31.5px; color:red\">quality</span> <span style=\"font-size:37.2px; color:red\">was</span> <span style=\"font-size:56px; color:green\">amazing</span></p>"
      ],
      "text/plain": [
       "<IPython.core.display.HTML object>"
      ]
     },
     "metadata": {},
     "output_type": "display_data"
    }
   ],
   "source": [
    "user_input = \"The service was slow and the product quality was amazing\"\n",
    "visualize_input_importance(user_input, vectorizer, model)"
   ]
  },
  {
   "cell_type": "code",
   "execution_count": null,
   "id": "fd64a758",
   "metadata": {},
   "outputs": [],
   "source": []
  },
  {
   "cell_type": "code",
   "execution_count": null,
   "id": "674ca10d",
   "metadata": {},
   "outputs": [],
   "source": []
  },
  {
   "cell_type": "code",
   "execution_count": null,
   "id": "93bcf586",
   "metadata": {},
   "outputs": [],
   "source": []
  },
  {
   "cell_type": "code",
   "execution_count": null,
   "id": "624a7d07",
   "metadata": {},
   "outputs": [],
   "source": []
  },
  {
   "cell_type": "code",
   "execution_count": null,
   "id": "e2dad2cd",
   "metadata": {},
   "outputs": [],
   "source": []
  },
  {
   "cell_type": "code",
   "execution_count": null,
   "id": "8daddc00",
   "metadata": {},
   "outputs": [],
   "source": []
  },
  {
   "cell_type": "code",
   "execution_count": null,
   "id": "d70a3358",
   "metadata": {},
   "outputs": [],
   "source": []
  },
  {
   "cell_type": "code",
   "execution_count": null,
   "id": "96a1af57-9b40-4989-9220-fb5d333a8e16",
   "metadata": {},
   "outputs": [],
   "source": []
  },
  {
   "cell_type": "code",
   "execution_count": null,
   "id": "104f86aa-f083-4d3a-8038-d156b435834e",
   "metadata": {},
   "outputs": [],
   "source": []
  },
  {
   "cell_type": "code",
   "execution_count": null,
   "id": "90336d5a-2027-4cd0-b92b-f45aae329fb6",
   "metadata": {},
   "outputs": [],
   "source": []
  },
  {
   "cell_type": "code",
   "execution_count": null,
   "id": "233af1dd-cf16-4a9e-9a04-3ddaba160f09",
   "metadata": {},
   "outputs": [],
   "source": []
  },
  {
   "cell_type": "code",
   "execution_count": null,
   "id": "870f6131-6037-430e-a25b-dfb2214baeff",
   "metadata": {},
   "outputs": [],
   "source": []
  },
  {
   "cell_type": "code",
   "execution_count": null,
   "id": "2ac72582-5e7b-47c8-9bcf-9b5ec8d0e965",
   "metadata": {},
   "outputs": [],
   "source": []
  },
  {
   "cell_type": "code",
   "execution_count": null,
   "id": "1219948a-dce7-4d75-88b6-40fcd11532f6",
   "metadata": {},
   "outputs": [],
   "source": []
  },
  {
   "cell_type": "code",
   "execution_count": null,
   "id": "21b57361-8cc0-4fe1-9a7e-f64fb5562a8c",
   "metadata": {},
   "outputs": [],
   "source": []
  }
 ],
 "metadata": {
  "kernelspec": {
   "display_name": "sentiscope",
   "language": "python",
   "name": "python3"
  },
  "language_info": {
   "codemirror_mode": {
    "name": "ipython",
    "version": 3
   },
   "file_extension": ".py",
   "mimetype": "text/x-python",
   "name": "python",
   "nbconvert_exporter": "python",
   "pygments_lexer": "ipython3",
   "version": "3.10.6"
  }
 },
 "nbformat": 4,
 "nbformat_minor": 5
}
