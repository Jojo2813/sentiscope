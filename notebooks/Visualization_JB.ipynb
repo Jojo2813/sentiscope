{
 "cells": [
  {
   "cell_type": "markdown",
   "id": "4c00ac51",
   "metadata": {},
   "source": [
    "# Visualizing"
   ]
  },
  {
   "cell_type": "code",
   "execution_count": 5,
   "id": "fa09922d",
   "metadata": {},
   "outputs": [],
   "source": [
    "import pickle"
   ]
  },
  {
   "cell_type": "code",
   "execution_count": 7,
   "id": "f7928c95",
   "metadata": {},
   "outputs": [],
   "source": [
    "import pandas as pd\n",
    "import numpy as np\n",
    "import os\n",
    "\n",
    "#Basic cleaning\n",
    "import string\n",
    "import re\n",
    "\n",
    "#ML tokenizing, lemmatizing and vectorizing\n",
    "from nltk import word_tokenize\n",
    "from nltk.stem import WordNetLemmatizer\n",
    "\n",
    "\n",
    "def basic_cleaning(text):\n",
    "    \"\"\"\n",
    "    Function which takes a string and cleans it to get the string ready for\n",
    "    future preprocessing. This is a universal step which the data will always\n",
    "    undergo.\n",
    "    Input: String\n",
    "    Output: String\n",
    "    \"\"\"\n",
    "\n",
    "    #No whitespaces in beginning or end\n",
    "    text = text.strip()\n",
    "\n",
    "    #lowercase\n",
    "    text= text.lower()\n",
    "\n",
    "    #remove numbers\n",
    "    text = re.sub(r'\\b\\d+\\b', '', text)\n",
    "\n",
    "    #Removing punctuation\n",
    "    text = re.sub(rf\"[{re.escape(string.punctuation)}]\", '', text)\n",
    "\n",
    "    # Tokenizing\n",
    "    tokenized = word_tokenize(text)\n",
    "\n",
    "    # Lemmatizing\n",
    "    lemmatizer = WordNetLemmatizer()\n",
    "    lemmatized = [lemmatizer.lemmatize(word) for word in tokenized]\n",
    "\n",
    "    text = \" \".join(lemmatized)\n",
    "    return text\n",
    "\n",
    "def preprocess_series(X):\n",
    "        \"\"\"\n",
    "        Helper function for pipeline\n",
    "        This function always has to be available in the namespace when loading\n",
    "        the pipeline.\n",
    "        \"\"\"\n",
    "        return[basic_cleaning(text) for text in X]"
   ]
  },
  {
   "cell_type": "code",
   "execution_count": 8,
   "id": "9f5f8baf",
   "metadata": {},
   "outputs": [],
   "source": [
    "with open (\"/Users/johannesb/code/Jojo2813/SentiScope/preprocessing_pipelines/preproc_pipeline_ml.pkl\", 'rb') as file:\n",
    "    pipe = pickle.load(file)"
   ]
  },
  {
   "cell_type": "code",
   "execution_count": 17,
   "id": "7aed99aa",
   "metadata": {},
   "outputs": [],
   "source": [
    "vectorizer = pipe['vectorizer']"
   ]
  },
  {
   "cell_type": "code",
   "execution_count": null,
   "id": "9856825c",
   "metadata": {},
   "outputs": [],
   "source": [
    "#Example review\n",
    "review = pd.Series(\"This is a very bad review but the delivery was good\")\n",
    "vector_review = pipe.transform(review)"
   ]
  },
  {
   "cell_type": "code",
   "execution_count": 22,
   "id": "9df7b781",
   "metadata": {},
   "outputs": [
    {
     "data": {
      "text/plain": [
       "<1x10000 sparse matrix of type '<class 'numpy.float64'>'\n",
       "\twith 9 stored elements in Compressed Sparse Row format>"
      ]
     },
     "execution_count": 22,
     "metadata": {},
     "output_type": "execute_result"
    }
   ],
   "source": [
    "vector_review"
   ]
  },
  {
   "cell_type": "code",
   "execution_count": null,
   "id": "5f100170",
   "metadata": {},
   "outputs": [],
   "source": [
    "import joblib"
   ]
  },
  {
   "cell_type": "code",
   "execution_count": 12,
   "id": "0424409a",
   "metadata": {},
   "outputs": [],
   "source": [
    "model = joblib.load(\"/Users/johannesb/code/Jojo2813/SentiScope/model/logreg_full.pkl\")"
   ]
  },
  {
   "cell_type": "code",
   "execution_count": 23,
   "id": "e37422e4",
   "metadata": {},
   "outputs": [],
   "source": [
    "sentiment = model.predict(vector_review)"
   ]
  },
  {
   "cell_type": "code",
   "execution_count": 24,
   "id": "685e246c",
   "metadata": {},
   "outputs": [],
   "source": [
    "coefs = model.coef_[0]\n",
    "feature_names = vectorizer.get_feature_names_out()"
   ]
  },
  {
   "cell_type": "code",
   "execution_count": 25,
   "id": "fbd8aaa5",
   "metadata": {},
   "outputs": [],
   "source": [
    "input_indices = vector_review.nonzero()[1]\n",
    "tfidf_values = vector_review.toarray()[0][input_indices]\n",
    "input_tokens = [feature_names[i] for i in input_indices]\n",
    "word_coefs = coefs[input_indices]"
   ]
  },
  {
   "cell_type": "code",
   "execution_count": 26,
   "id": "4bbe5573",
   "metadata": {},
   "outputs": [],
   "source": [
    " # Compute word contributions\n",
    "contributions = tfidf_values * word_coefs\n",
    "contrib_dict = dict(zip(input_tokens, contributions))"
   ]
  },
  {
   "cell_type": "code",
   "execution_count": 27,
   "id": "e6029068",
   "metadata": {},
   "outputs": [],
   "source": [
    "# Sort contributions to find top positives and negatives\n",
    "sorted_items = sorted(contrib_dict.items(), key=lambda x: x[1])\n",
    "top_negative = [w for w, _ in sorted_items[:2]]\n",
    "top_positive = [w for w, _ in sorted_items[-2:]]"
   ]
  },
  {
   "cell_type": "code",
   "execution_count": 28,
   "id": "6ba83a52",
   "metadata": {},
   "outputs": [
    {
     "data": {
      "text/plain": [
       "array([-2.77107717,  2.52566384, -0.12305621,  0.18185113,  0.52103514,\n",
       "       -0.14851631,  0.88507473,  0.10844661, -2.83168388])"
      ]
     },
     "execution_count": 28,
     "metadata": {},
     "output_type": "execute_result"
    }
   ],
   "source": [
    "contributions"
   ]
  },
  {
   "cell_type": "code",
   "execution_count": 29,
   "id": "e653caf2",
   "metadata": {},
   "outputs": [
    {
     "data": {
      "text/plain": [
       "(['very bad', 'bad'], ['this is', 'bad review'])"
      ]
     },
     "execution_count": 29,
     "metadata": {},
     "output_type": "execute_result"
    }
   ],
   "source": [
    "top_negative, top_positive"
   ]
  },
  {
   "cell_type": "code",
   "execution_count": null,
   "id": "f1b15213",
   "metadata": {},
   "outputs": [],
   "source": []
  }
 ],
 "metadata": {
  "kernelspec": {
   "display_name": "sentiscope",
   "language": "python",
   "name": "python3"
  },
  "language_info": {
   "codemirror_mode": {
    "name": "ipython",
    "version": 3
   },
   "file_extension": ".py",
   "mimetype": "text/x-python",
   "name": "python",
   "nbconvert_exporter": "python",
   "pygments_lexer": "ipython3",
   "version": "3.10.6"
  }
 },
 "nbformat": 4,
 "nbformat_minor": 5
}
