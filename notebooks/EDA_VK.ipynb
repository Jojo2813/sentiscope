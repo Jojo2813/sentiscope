{
 "cells": [
  {
   "cell_type": "code",
   "execution_count": 6,
   "id": "2993b941",
   "metadata": {},
   "outputs": [],
   "source": [
    "%load_ext autoreload\n",
    "%autoreload 2"
   ]
  },
  {
   "cell_type": "code",
   "execution_count": 37,
   "id": "528dcb52",
   "metadata": {},
   "outputs": [],
   "source": [
    "\n",
    "import pandas as pd\n",
    "import numpy as np\n",
    "import matplotlib as plt\n",
    "import bz2\n",
    "import os\n",
    "import re\n",
    "import nltk\n",
    "from tqdm import tqdm\n",
    "from nltk.corpus import stopwords\n",
    "from nltk.stem import WordNetLemmatizer\n",
    "from sklearn.feature_extraction.text import TfidfVectorizer\n",
    "from sklearn.model_selection import train_test_split\n",
    "from sklearn.linear_model import LogisticRegression\n",
    "from sklearn.metrics import classification_report\n",
    "from sklearn.ensemble import RandomForestClassifier\n",
    "from sklearn.svm import LinearSVC\n",
    "from xgboost import XGBClassifier"
   ]
  },
  {
   "cell_type": "code",
   "execution_count": 29,
   "id": "169c12df",
   "metadata": {},
   "outputs": [
    {
     "name": "stdout",
     "output_type": "stream",
     "text": [
      "['test.ft.txt.bz2']\n",
      "['test.ft.txt.bz2', 'test.ft.txt.bz2:Zone.Identifier']\n"
     ]
    }
   ],
   "source": [
    "print(os.listdir(\"../raw_data\"))\n",
    "\n",
    "print(os.listdir(\"../raw_data/test.ft.txt.bz2\"))"
   ]
  },
  {
   "cell_type": "code",
   "execution_count": 9,
   "id": "0036ab1d",
   "metadata": {},
   "outputs": [
    {
     "data": {
      "text/html": [
       "<div>\n",
       "<style scoped>\n",
       "    .dataframe tbody tr th:only-of-type {\n",
       "        vertical-align: middle;\n",
       "    }\n",
       "\n",
       "    .dataframe tbody tr th {\n",
       "        vertical-align: top;\n",
       "    }\n",
       "\n",
       "    .dataframe thead th {\n",
       "        text-align: right;\n",
       "    }\n",
       "</style>\n",
       "<table border=\"1\" class=\"dataframe\">\n",
       "  <thead>\n",
       "    <tr style=\"text-align: right;\">\n",
       "      <th></th>\n",
       "      <th>label</th>\n",
       "      <th>text</th>\n",
       "    </tr>\n",
       "  </thead>\n",
       "  <tbody>\n",
       "    <tr>\n",
       "      <th>0</th>\n",
       "      <td>2</td>\n",
       "      <td>Great CD: My lovely Pat has one of the GREAT v...</td>\n",
       "    </tr>\n",
       "    <tr>\n",
       "      <th>1</th>\n",
       "      <td>2</td>\n",
       "      <td>One of the best game music soundtracks - for a...</td>\n",
       "    </tr>\n",
       "    <tr>\n",
       "      <th>2</th>\n",
       "      <td>1</td>\n",
       "      <td>Batteries died within a year ...: I bought thi...</td>\n",
       "    </tr>\n",
       "    <tr>\n",
       "      <th>3</th>\n",
       "      <td>2</td>\n",
       "      <td>works fine, but Maha Energy is better: Check o...</td>\n",
       "    </tr>\n",
       "    <tr>\n",
       "      <th>4</th>\n",
       "      <td>2</td>\n",
       "      <td>Great for the non-audiophile: Reviewed quite a...</td>\n",
       "    </tr>\n",
       "  </tbody>\n",
       "</table>\n",
       "</div>"
      ],
      "text/plain": [
       "   label                                               text\n",
       "0      2  Great CD: My lovely Pat has one of the GREAT v...\n",
       "1      2  One of the best game music soundtracks - for a...\n",
       "2      1  Batteries died within a year ...: I bought thi...\n",
       "3      2  works fine, but Maha Energy is better: Check o...\n",
       "4      2  Great for the non-audiophile: Reviewed quite a..."
      ]
     },
     "execution_count": 9,
     "metadata": {},
     "output_type": "execute_result"
    }
   ],
   "source": [
    "file_path = \"../raw_data/test.ft.txt.bz2/test.ft.txt.bz2\"\n",
    "\n",
    "data = []\n",
    "with bz2.open(file_path, \"rt\", encoding=\"utf-8\") as f:\n",
    "    for line in f:\n",
    "        parts = line.strip().split(\" \", 1)\n",
    "        if len(parts) == 2:\n",
    "            label, text = parts\n",
    "            label = label.replace(\"__label__\", \"\")\n",
    "            data.append((label, text))\n",
    "\n",
    "df = pd.DataFrame(data, columns=[\"label\", \"text\"])\n",
    "df[\"label\"] = df[\"label\"].astype(int)\n",
    "df.head()"
   ]
  },
  {
   "cell_type": "code",
   "execution_count": 10,
   "id": "80736f64",
   "metadata": {},
   "outputs": [
    {
     "name": "stdout",
     "output_type": "stream",
     "text": [
      "<class 'pandas.core.frame.DataFrame'>\n",
      "RangeIndex: 400000 entries, 0 to 399999\n",
      "Data columns (total 2 columns):\n",
      " #   Column  Non-Null Count   Dtype \n",
      "---  ------  --------------   ----- \n",
      " 0   label   400000 non-null  int64 \n",
      " 1   text    400000 non-null  object\n",
      "dtypes: int64(1), object(1)\n",
      "memory usage: 6.1+ MB\n"
     ]
    }
   ],
   "source": [
    "df.info()"
   ]
  },
  {
   "cell_type": "code",
   "execution_count": 11,
   "id": "c1167dae",
   "metadata": {},
   "outputs": [
    {
     "data": {
      "text/plain": [
       "label\n",
       "2    200000\n",
       "1    200000\n",
       "Name: count, dtype: int64"
      ]
     },
     "execution_count": 11,
     "metadata": {},
     "output_type": "execute_result"
    }
   ],
   "source": [
    "df[\"label\"].value_counts()"
   ]
  },
  {
   "cell_type": "code",
   "execution_count": 12,
   "id": "f2b73d58",
   "metadata": {},
   "outputs": [
    {
     "data": {
      "text/plain": [
       "count    400000.000000\n",
       "mean        431.429630\n",
       "std         237.435383\n",
       "min          99.000000\n",
       "25%         231.000000\n",
       "50%         383.000000\n",
       "75%         595.000000\n",
       "max        1015.000000\n",
       "Name: text, dtype: float64"
      ]
     },
     "execution_count": 12,
     "metadata": {},
     "output_type": "execute_result"
    }
   ],
   "source": [
    "df[\"text\"].str.len().describe()"
   ]
  },
  {
   "cell_type": "code",
   "execution_count": 13,
   "id": "d2744ddf",
   "metadata": {},
   "outputs": [
    {
     "data": {
      "text/plain": [
       "label    0\n",
       "text     0\n",
       "dtype: int64"
      ]
     },
     "execution_count": 13,
     "metadata": {},
     "output_type": "execute_result"
    }
   ],
   "source": [
    "df.isnull().sum()"
   ]
  },
  {
   "cell_type": "markdown",
   "id": "409a14a0",
   "metadata": {},
   "source": [
    "##Cleaning"
   ]
  },
  {
   "cell_type": "code",
   "execution_count": 30,
   "id": "c28dd773",
   "metadata": {},
   "outputs": [
    {
     "name": "stderr",
     "output_type": "stream",
     "text": [
      "[nltk_data] Downloading package punkt to /home/vin/nltk_data...\n",
      "[nltk_data]   Package punkt is already up-to-date!\n",
      "[nltk_data] Downloading package stopwords to /home/vin/nltk_data...\n",
      "[nltk_data]   Package stopwords is already up-to-date!\n",
      "[nltk_data] Downloading package wordnet to /home/vin/nltk_data...\n",
      "[nltk_data]   Package wordnet is already up-to-date!\n"
     ]
    },
    {
     "data": {
      "text/plain": [
       "True"
      ]
     },
     "execution_count": 30,
     "metadata": {},
     "output_type": "execute_result"
    }
   ],
   "source": [
    "nltk.download('punkt')\n",
    "nltk.download('stopwords')\n",
    "nltk.download('wordnet')"
   ]
  },
  {
   "cell_type": "code",
   "execution_count": 14,
   "id": "1470d8a0",
   "metadata": {},
   "outputs": [],
   "source": [
    "def clean_text(text):\n",
    "    text = text.lower()\n",
    "    text = re.sub(r\"[^a-z0-9\\s]\", \"\", text)\n",
    "    text = re.sub(r\"\\s+\", \" \", text).strip()\n",
    "    return text\n",
    "\n",
    "df['clean_text'] = df[\"text\"].apply(clean_text)"
   ]
  },
  {
   "cell_type": "code",
   "execution_count": 15,
   "id": "089cadf5",
   "metadata": {},
   "outputs": [
    {
     "data": {
      "text/html": [
       "<div>\n",
       "<style scoped>\n",
       "    .dataframe tbody tr th:only-of-type {\n",
       "        vertical-align: middle;\n",
       "    }\n",
       "\n",
       "    .dataframe tbody tr th {\n",
       "        vertical-align: top;\n",
       "    }\n",
       "\n",
       "    .dataframe thead th {\n",
       "        text-align: right;\n",
       "    }\n",
       "</style>\n",
       "<table border=\"1\" class=\"dataframe\">\n",
       "  <thead>\n",
       "    <tr style=\"text-align: right;\">\n",
       "      <th></th>\n",
       "      <th>text</th>\n",
       "      <th>clean_text</th>\n",
       "    </tr>\n",
       "  </thead>\n",
       "  <tbody>\n",
       "    <tr>\n",
       "      <th>0</th>\n",
       "      <td>Great CD: My lovely Pat has one of the GREAT v...</td>\n",
       "      <td>great cd my lovely pat has one of the great vo...</td>\n",
       "    </tr>\n",
       "    <tr>\n",
       "      <th>1</th>\n",
       "      <td>One of the best game music soundtracks - for a...</td>\n",
       "      <td>one of the best game music soundtracks for a g...</td>\n",
       "    </tr>\n",
       "    <tr>\n",
       "      <th>2</th>\n",
       "      <td>Batteries died within a year ...: I bought thi...</td>\n",
       "      <td>batteries died within a year i bought this cha...</td>\n",
       "    </tr>\n",
       "    <tr>\n",
       "      <th>3</th>\n",
       "      <td>works fine, but Maha Energy is better: Check o...</td>\n",
       "      <td>works fine but maha energy is better check out...</td>\n",
       "    </tr>\n",
       "    <tr>\n",
       "      <th>4</th>\n",
       "      <td>Great for the non-audiophile: Reviewed quite a...</td>\n",
       "      <td>great for the nonaudiophile reviewed quite a b...</td>\n",
       "    </tr>\n",
       "    <tr>\n",
       "      <th>5</th>\n",
       "      <td>DVD Player crapped out after one year: I also ...</td>\n",
       "      <td>dvd player crapped out after one year i also b...</td>\n",
       "    </tr>\n",
       "    <tr>\n",
       "      <th>6</th>\n",
       "      <td>Incorrect Disc: I love the style of this, but ...</td>\n",
       "      <td>incorrect disc i love the style of this but af...</td>\n",
       "    </tr>\n",
       "    <tr>\n",
       "      <th>7</th>\n",
       "      <td>DVD menu select problems: I cannot scroll thro...</td>\n",
       "      <td>dvd menu select problems i cannot scroll throu...</td>\n",
       "    </tr>\n",
       "    <tr>\n",
       "      <th>8</th>\n",
       "      <td>Unique Weird Orientalia from the 1930's: Exoti...</td>\n",
       "      <td>unique weird orientalia from the 1930s exotic ...</td>\n",
       "    </tr>\n",
       "    <tr>\n",
       "      <th>9</th>\n",
       "      <td>Not an \"ultimate guide\": Firstly,I enjoyed the...</td>\n",
       "      <td>not an ultimate guide firstlyi enjoyed the for...</td>\n",
       "    </tr>\n",
       "  </tbody>\n",
       "</table>\n",
       "</div>"
      ],
      "text/plain": [
       "                                                text  \\\n",
       "0  Great CD: My lovely Pat has one of the GREAT v...   \n",
       "1  One of the best game music soundtracks - for a...   \n",
       "2  Batteries died within a year ...: I bought thi...   \n",
       "3  works fine, but Maha Energy is better: Check o...   \n",
       "4  Great for the non-audiophile: Reviewed quite a...   \n",
       "5  DVD Player crapped out after one year: I also ...   \n",
       "6  Incorrect Disc: I love the style of this, but ...   \n",
       "7  DVD menu select problems: I cannot scroll thro...   \n",
       "8  Unique Weird Orientalia from the 1930's: Exoti...   \n",
       "9  Not an \"ultimate guide\": Firstly,I enjoyed the...   \n",
       "\n",
       "                                          clean_text  \n",
       "0  great cd my lovely pat has one of the great vo...  \n",
       "1  one of the best game music soundtracks for a g...  \n",
       "2  batteries died within a year i bought this cha...  \n",
       "3  works fine but maha energy is better check out...  \n",
       "4  great for the nonaudiophile reviewed quite a b...  \n",
       "5  dvd player crapped out after one year i also b...  \n",
       "6  incorrect disc i love the style of this but af...  \n",
       "7  dvd menu select problems i cannot scroll throu...  \n",
       "8  unique weird orientalia from the 1930s exotic ...  \n",
       "9  not an ultimate guide firstlyi enjoyed the for...  "
      ]
     },
     "execution_count": 15,
     "metadata": {},
     "output_type": "execute_result"
    }
   ],
   "source": [
    "df[[\"text\", \"clean_text\"]].head(10)"
   ]
  },
  {
   "cell_type": "markdown",
   "id": "3c012245",
   "metadata": {},
   "source": [
    "## # Tokenization + remove stopwords + lemmatization"
   ]
  },
  {
   "cell_type": "code",
   "execution_count": 32,
   "id": "1be86ee9",
   "metadata": {},
   "outputs": [],
   "source": [
    "stop = set(stopwords.words('english'))\n",
    "lemmatizer = WordNetLemmatizer()"
   ]
  },
  {
   "cell_type": "code",
   "execution_count": 35,
   "id": "73d8811c",
   "metadata": {},
   "outputs": [],
   "source": [
    "def tokenize_and_lemmatize(text):\n",
    "    tokens = nltk.word_tokenize(text)\n",
    "    tokens = [t for t in tokens if t not in stop and len(t) > 2]\n",
    "    lem = [lemmatizer.lemmatize(t) for t in tokens]\n",
    "    return lem"
   ]
  },
  {
   "cell_type": "code",
   "execution_count": 39,
   "id": "31502d68",
   "metadata": {},
   "outputs": [
    {
     "name": "stderr",
     "output_type": "stream",
     "text": [
      "100%|██████████| 400000/400000 [03:41<00:00, 1803.57it/s]\n"
     ]
    }
   ],
   "source": [
    "tqdm.pandas()\n",
    "df['tokens'] = df['clean_text'].progress_apply(tokenize_and_lemmatize)"
   ]
  },
  {
   "cell_type": "markdown",
   "id": "d4fae1f2",
   "metadata": {},
   "source": [
    "## Split the data\n"
   ]
  },
  {
   "cell_type": "code",
   "execution_count": 42,
   "id": "dc8c38b0",
   "metadata": {},
   "outputs": [],
   "source": [
    "X = df['tokens']\n",
    "y = df['label']\n",
    "X_train, X_test, y_train, y_test = train_test_split(\n",
    "    X, y, test_size=0.2, random_state=42\n",
    ")"
   ]
  },
  {
   "cell_type": "code",
   "execution_count": 47,
   "id": "f98288e7",
   "metadata": {},
   "outputs": [
    {
     "name": "stdout",
     "output_type": "stream",
     "text": [
      "X_train shape:  320000\n",
      "X_test shape: 80000\n",
      "y_train shape: 320000\n",
      "y_test shape: 80000\n"
     ]
    }
   ],
   "source": [
    "print(\"X_train shape: \" ,len(X_train))\n",
    "print(\"X_test shape:\", len(X_test))\n",
    "print(\"y_train shape:\", len(y_train))\n",
    "print(\"y_test shape:\", len(y_test))"
   ]
  },
  {
   "cell_type": "code",
   "execution_count": 48,
   "id": "1398b0d6",
   "metadata": {},
   "outputs": [
    {
     "name": "stdout",
     "output_type": "stream",
     "text": [
      "242245    [mediocre, fake, velvet, touch, enhances, chea...\n",
      "288918    [downton, abbey, love, love, love, would, reco...\n",
      "105103    [rose, red, disappointed, one, stretch, get, e...\n",
      "63504     [awful, experience, microsoft, mouse, stopped,...\n",
      "239180    [must, seen, different, movie, one, word, movi...\n",
      "Name: tokens, dtype: object\n"
     ]
    }
   ],
   "source": [
    "print(X_train.head())"
   ]
  },
  {
   "cell_type": "markdown",
   "id": "063ee43b",
   "metadata": {},
   "source": [
    "## TF - IDF"
   ]
  },
  {
   "cell_type": "code",
   "execution_count": 50,
   "id": "8e330e72",
   "metadata": {},
   "outputs": [
    {
     "name": "stdout",
     "output_type": "stream",
     "text": [
      "TF-IDF shape train: (320000, 10000)\n",
      "TF-IDF shape test: (80000, 10000)\n"
     ]
    }
   ],
   "source": [
    "#  Prepare text for TF-IDF by joining tokens back into strings\n",
    "\n",
    "X_train_joined = X_train.apply(lambda x: ' '.join(x))\n",
    "X_test_joined = X_test.apply(lambda x: ' '.join(x))\n",
    "\n",
    "# TF-IDF Vectorizer (fit on train only)\n",
    "\n",
    "tfidf = TfidfVectorizer(max_features=10000)\n",
    "X_train_tfidf = tfidf.fit_transform(X_train_joined)\n",
    "X_test_tfidf = tfidf.transform(X_test_joined)\n",
    "\n",
    "\n",
    "print(\"TF-IDF shape train:\", X_train_tfidf.shape)\n",
    "print(\"TF-IDF shape test:\", X_test_tfidf.shape)"
   ]
  },
  {
   "cell_type": "code",
   "execution_count": 41,
   "id": "9d32f1c6",
   "metadata": {},
   "outputs": [
    {
     "name": "stdout",
     "output_type": "stream",
     "text": [
      "TF-IDF shape: (400000, 10000)\n"
     ]
    }
   ],
   "source": [
    "print(\"TF-IDF shape:\", X_tfidf.shape)"
   ]
  }
 ],
 "metadata": {
  "kernelspec": {
   "display_name": "sentiscope",
   "language": "python",
   "name": "python3"
  },
  "language_info": {
   "codemirror_mode": {
    "name": "ipython",
    "version": 3
   },
   "file_extension": ".py",
   "mimetype": "text/x-python",
   "name": "python",
   "nbconvert_exporter": "python",
   "pygments_lexer": "ipython3",
   "version": "3.10.6"
  }
 },
 "nbformat": 4,
 "nbformat_minor": 5
}
