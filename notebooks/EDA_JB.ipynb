{
 "cells": [
  {
   "cell_type": "markdown",
   "id": "d627d735",
   "metadata": {},
   "source": [
    "# Data Exploration "
   ]
  },
  {
   "cell_type": "markdown",
   "id": "f712c648",
   "metadata": {},
   "source": [
    "## Loading the data"
   ]
  },
  {
   "cell_type": "code",
   "execution_count": 6,
   "id": "5dcb0d9f",
   "metadata": {},
   "outputs": [],
   "source": [
    "import os\n",
    "import pandas as pd"
   ]
  },
  {
   "cell_type": "code",
   "execution_count": 7,
   "id": "8429e59d",
   "metadata": {},
   "outputs": [],
   "source": [
    "path = \"../raw_data/\""
   ]
  },
  {
   "cell_type": "code",
   "execution_count": 29,
   "id": "ef5e5173",
   "metadata": {},
   "outputs": [
    {
     "data": {
      "text/html": [
       "<div>\n",
       "<style scoped>\n",
       "    .dataframe tbody tr th:only-of-type {\n",
       "        vertical-align: middle;\n",
       "    }\n",
       "\n",
       "    .dataframe tbody tr th {\n",
       "        vertical-align: top;\n",
       "    }\n",
       "\n",
       "    .dataframe thead th {\n",
       "        text-align: right;\n",
       "    }\n",
       "</style>\n",
       "<table border=\"1\" class=\"dataframe\">\n",
       "  <thead>\n",
       "    <tr style=\"text-align: right;\">\n",
       "      <th></th>\n",
       "      <th>label</th>\n",
       "      <th>text</th>\n",
       "    </tr>\n",
       "  </thead>\n",
       "  <tbody>\n",
       "    <tr>\n",
       "      <th>0</th>\n",
       "      <td>2</td>\n",
       "      <td>Stuning even for the non-gamer: This sound tra...</td>\n",
       "    </tr>\n",
       "    <tr>\n",
       "      <th>1</th>\n",
       "      <td>2</td>\n",
       "      <td>The best soundtrack ever to anything.: I'm rea...</td>\n",
       "    </tr>\n",
       "    <tr>\n",
       "      <th>2</th>\n",
       "      <td>2</td>\n",
       "      <td>Amazing!: This soundtrack is my favorite music...</td>\n",
       "    </tr>\n",
       "    <tr>\n",
       "      <th>3</th>\n",
       "      <td>2</td>\n",
       "      <td>Excellent Soundtrack: I truly like this soundt...</td>\n",
       "    </tr>\n",
       "    <tr>\n",
       "      <th>4</th>\n",
       "      <td>2</td>\n",
       "      <td>Remember, Pull Your Jaw Off The Floor After He...</td>\n",
       "    </tr>\n",
       "  </tbody>\n",
       "</table>\n",
       "</div>"
      ],
      "text/plain": [
       "   label                                               text\n",
       "0      2  Stuning even for the non-gamer: This sound tra...\n",
       "1      2  The best soundtrack ever to anything.: I'm rea...\n",
       "2      2  Amazing!: This soundtrack is my favorite music...\n",
       "3      2  Excellent Soundtrack: I truly like this soundt...\n",
       "4      2  Remember, Pull Your Jaw Off The Floor After He..."
      ]
     },
     "execution_count": 29,
     "metadata": {},
     "output_type": "execute_result"
    }
   ],
   "source": [
    "file_path = os.path.join(path, \"train_raw.csv\")\n",
    "\n",
    "data = pd.read_csv(file_path)\n",
    "\n",
    "\n",
    "df = pd.DataFrame(data, columns=[\"label\", \"text\"])\n",
    "df[\"label\"] = df[\"label\"].astype(int)\n",
    "\n",
    "\n",
    "df.head()"
   ]
  },
  {
   "cell_type": "code",
   "execution_count": 10,
   "id": "785a5273",
   "metadata": {},
   "outputs": [],
   "source": [
    "file_path = os.path.join(path, \"test_raw.csv\")\n",
    "\n",
    "\n",
    "data = pd.read_csv(file_path)\n",
    "\n",
    "df_test = pd.DataFrame(data, columns=[\"label\", \"text\"])\n",
    "df_test[\"label\"] = df_test[\"label\"].astype(int)"
   ]
  },
  {
   "cell_type": "code",
   "execution_count": 11,
   "id": "f8a94aa3",
   "metadata": {},
   "outputs": [
    {
     "data": {
      "text/html": [
       "<div>\n",
       "<style scoped>\n",
       "    .dataframe tbody tr th:only-of-type {\n",
       "        vertical-align: middle;\n",
       "    }\n",
       "\n",
       "    .dataframe tbody tr th {\n",
       "        vertical-align: top;\n",
       "    }\n",
       "\n",
       "    .dataframe thead th {\n",
       "        text-align: right;\n",
       "    }\n",
       "</style>\n",
       "<table border=\"1\" class=\"dataframe\">\n",
       "  <thead>\n",
       "    <tr style=\"text-align: right;\">\n",
       "      <th></th>\n",
       "      <th>label</th>\n",
       "      <th>text</th>\n",
       "    </tr>\n",
       "  </thead>\n",
       "  <tbody>\n",
       "    <tr>\n",
       "      <th>0</th>\n",
       "      <td>2</td>\n",
       "      <td>Great CD: My lovely Pat has one of the GREAT v...</td>\n",
       "    </tr>\n",
       "    <tr>\n",
       "      <th>1</th>\n",
       "      <td>2</td>\n",
       "      <td>One of the best game music soundtracks - for a...</td>\n",
       "    </tr>\n",
       "    <tr>\n",
       "      <th>2</th>\n",
       "      <td>1</td>\n",
       "      <td>Batteries died within a year ...: I bought thi...</td>\n",
       "    </tr>\n",
       "    <tr>\n",
       "      <th>3</th>\n",
       "      <td>2</td>\n",
       "      <td>works fine, but Maha Energy is better: Check o...</td>\n",
       "    </tr>\n",
       "    <tr>\n",
       "      <th>4</th>\n",
       "      <td>2</td>\n",
       "      <td>Great for the non-audiophile: Reviewed quite a...</td>\n",
       "    </tr>\n",
       "  </tbody>\n",
       "</table>\n",
       "</div>"
      ],
      "text/plain": [
       "   label                                               text\n",
       "0      2  Great CD: My lovely Pat has one of the GREAT v...\n",
       "1      2  One of the best game music soundtracks - for a...\n",
       "2      1  Batteries died within a year ...: I bought thi...\n",
       "3      2  works fine, but Maha Energy is better: Check o...\n",
       "4      2  Great for the non-audiophile: Reviewed quite a..."
      ]
     },
     "execution_count": 11,
     "metadata": {},
     "output_type": "execute_result"
    }
   ],
   "source": [
    "df_test.head()\n"
   ]
  },
  {
   "cell_type": "code",
   "execution_count": 12,
   "id": "f879518b",
   "metadata": {},
   "outputs": [
    {
     "data": {
      "text/plain": [
       "(3600000, 2)"
      ]
     },
     "execution_count": 12,
     "metadata": {},
     "output_type": "execute_result"
    }
   ],
   "source": [
    "df.shape"
   ]
  },
  {
   "cell_type": "markdown",
   "id": "d892ee9f",
   "metadata": {},
   "source": [
    "### Save data as csv locally"
   ]
  },
  {
   "cell_type": "code",
   "execution_count": 30,
   "id": "452d3edd",
   "metadata": {},
   "outputs": [],
   "source": [
    "#df.to_csv(\"../raw_data/train_raw.csv\", header=True, index=False)\n",
    "#df_test.to_csv(\"../raw_data/test_raw.csv\", header=True, index=False)"
   ]
  },
  {
   "cell_type": "code",
   "execution_count": 31,
   "id": "60a51dc1",
   "metadata": {},
   "outputs": [],
   "source": [
    "# Turn labels from 1 to 0 (bad) and 2 to 1 (good)\n",
    "df.label = df['label'] - 1"
   ]
  },
  {
   "cell_type": "code",
   "execution_count": 37,
   "id": "7f41f899",
   "metadata": {},
   "outputs": [],
   "source": [
    "#Create a small train df to speed up computations\n",
    "df_train_small = df.sample(frac=0.01)"
   ]
  },
  {
   "cell_type": "code",
   "execution_count": 38,
   "id": "05e9bde5",
   "metadata": {},
   "outputs": [
    {
     "data": {
      "text/plain": [
       "(36000, 2)"
      ]
     },
     "execution_count": 38,
     "metadata": {},
     "output_type": "execute_result"
    }
   ],
   "source": [
    "df_train_small.shape"
   ]
  },
  {
   "cell_type": "code",
   "execution_count": 39,
   "id": "495776ef",
   "metadata": {},
   "outputs": [
    {
     "data": {
      "text/plain": [
       "label\n",
       "0    18030\n",
       "1    17970\n",
       "Name: count, dtype: int64"
      ]
     },
     "execution_count": 39,
     "metadata": {},
     "output_type": "execute_result"
    }
   ],
   "source": [
    "df_train_small.label.value_counts()"
   ]
  },
  {
   "cell_type": "code",
   "execution_count": 40,
   "id": "01440a41",
   "metadata": {},
   "outputs": [],
   "source": [
    "#Create a small test df to speed up computations\n",
    "df_test_small = df_test.sample(frac=0.01)"
   ]
  },
  {
   "cell_type": "code",
   "execution_count": 41,
   "id": "10e281f1",
   "metadata": {},
   "outputs": [
    {
     "data": {
      "text/plain": [
       "label\n",
       "1    2013\n",
       "2    1987\n",
       "Name: count, dtype: int64"
      ]
     },
     "execution_count": 41,
     "metadata": {},
     "output_type": "execute_result"
    }
   ],
   "source": [
    "df_test_small.label.value_counts()"
   ]
  },
  {
   "cell_type": "markdown",
   "id": "4ceb50b4",
   "metadata": {},
   "source": [
    "## Preprocessing "
   ]
  },
  {
   "cell_type": "code",
   "execution_count": 42,
   "id": "d6fb9393",
   "metadata": {},
   "outputs": [],
   "source": [
    "import string\n",
    "import re\n",
    "from nltk import word_tokenize\n",
    "from nltk.stem import WordNetLemmatizer"
   ]
  },
  {
   "cell_type": "code",
   "execution_count": 43,
   "id": "44c00b5a",
   "metadata": {},
   "outputs": [
    {
     "data": {
      "text/plain": [
       "label     int64\n",
       "text     object\n",
       "dtype: object"
      ]
     },
     "execution_count": 43,
     "metadata": {},
     "output_type": "execute_result"
    }
   ],
   "source": [
    "df_train_small.dtypes"
   ]
  },
  {
   "cell_type": "code",
   "execution_count": 44,
   "id": "15e0ca34",
   "metadata": {},
   "outputs": [],
   "source": [
    "def clean_text(text):\n",
    "    #No whitespaces in beginning or end\n",
    "    text = text.strip()\n",
    "    #lowercase\n",
    "    text= text.lower()\n",
    "    #remove numbers\n",
    "    text = re.sub(r'\\b\\d+\\b', '', text)\n",
    "\n",
    "    text = re.sub(rf\"[{re.escape(string.punctuation)}]\", '', text)\n",
    "\n",
    "    # Tokenizing\n",
    "    tokenized = word_tokenize(text)\n",
    "    # Lemmatizing\n",
    "    lemmatizer = WordNetLemmatizer()\n",
    "    lemmatized = [lemmatizer.lemmatize(word) for word in tokenized]\n",
    "    text = \" \".join(lemmatized)\n",
    "    return text\n"
   ]
  },
  {
   "cell_type": "code",
   "execution_count": 45,
   "id": "13d4599a",
   "metadata": {},
   "outputs": [
    {
     "data": {
      "text/html": [
       "<div>\n",
       "<style scoped>\n",
       "    .dataframe tbody tr th:only-of-type {\n",
       "        vertical-align: middle;\n",
       "    }\n",
       "\n",
       "    .dataframe tbody tr th {\n",
       "        vertical-align: top;\n",
       "    }\n",
       "\n",
       "    .dataframe thead th {\n",
       "        text-align: right;\n",
       "    }\n",
       "</style>\n",
       "<table border=\"1\" class=\"dataframe\">\n",
       "  <thead>\n",
       "    <tr style=\"text-align: right;\">\n",
       "      <th></th>\n",
       "      <th>label</th>\n",
       "      <th>text</th>\n",
       "    </tr>\n",
       "  </thead>\n",
       "  <tbody>\n",
       "    <tr>\n",
       "      <th>0</th>\n",
       "      <td>1</td>\n",
       "      <td>Stuning even for the non-gamer: This sound tra...</td>\n",
       "    </tr>\n",
       "    <tr>\n",
       "      <th>1</th>\n",
       "      <td>1</td>\n",
       "      <td>The best soundtrack ever to anything.: I'm rea...</td>\n",
       "    </tr>\n",
       "    <tr>\n",
       "      <th>2</th>\n",
       "      <td>1</td>\n",
       "      <td>Amazing!: This soundtrack is my favorite music...</td>\n",
       "    </tr>\n",
       "  </tbody>\n",
       "</table>\n",
       "</div>"
      ],
      "text/plain": [
       "   label                                               text\n",
       "0      1  Stuning even for the non-gamer: This sound tra...\n",
       "1      1  The best soundtrack ever to anything.: I'm rea...\n",
       "2      1  Amazing!: This soundtrack is my favorite music..."
      ]
     },
     "execution_count": 45,
     "metadata": {},
     "output_type": "execute_result"
    }
   ],
   "source": [
    "df_train_small['clean_text'] = df_train_small['text'].apply(clean_text)\n",
    "df.head(3)"
   ]
  },
  {
   "cell_type": "code",
   "execution_count": 46,
   "id": "6d7743a0",
   "metadata": {},
   "outputs": [],
   "source": [
    "X_train_small = df_train_small['clean_text']\n",
    "y_train_small = df_train_small['label']"
   ]
  },
  {
   "cell_type": "code",
   "execution_count": 47,
   "id": "217927e0",
   "metadata": {},
   "outputs": [],
   "source": [
    "X_train_small_cleaned = df_train_small['clean_text']"
   ]
  },
  {
   "cell_type": "code",
   "execution_count": 54,
   "id": "015dee01",
   "metadata": {},
   "outputs": [],
   "source": [
    "df['clean_text'] = df['text'].apply(clean_text)"
   ]
  },
  {
   "cell_type": "code",
   "execution_count": 56,
   "id": "d6a442d2",
   "metadata": {},
   "outputs": [
    {
     "data": {
      "text/html": [
       "<div>\n",
       "<style scoped>\n",
       "    .dataframe tbody tr th:only-of-type {\n",
       "        vertical-align: middle;\n",
       "    }\n",
       "\n",
       "    .dataframe tbody tr th {\n",
       "        vertical-align: top;\n",
       "    }\n",
       "\n",
       "    .dataframe thead th {\n",
       "        text-align: right;\n",
       "    }\n",
       "</style>\n",
       "<table border=\"1\" class=\"dataframe\">\n",
       "  <thead>\n",
       "    <tr style=\"text-align: right;\">\n",
       "      <th></th>\n",
       "      <th>label</th>\n",
       "      <th>text</th>\n",
       "      <th>clean_text</th>\n",
       "    </tr>\n",
       "  </thead>\n",
       "  <tbody>\n",
       "    <tr>\n",
       "      <th>0</th>\n",
       "      <td>1</td>\n",
       "      <td>Stuning even for the non-gamer: This sound tra...</td>\n",
       "      <td>stuning even for the nongamer this sound track...</td>\n",
       "    </tr>\n",
       "    <tr>\n",
       "      <th>1</th>\n",
       "      <td>1</td>\n",
       "      <td>The best soundtrack ever to anything.: I'm rea...</td>\n",
       "      <td>the best soundtrack ever to anything im readin...</td>\n",
       "    </tr>\n",
       "    <tr>\n",
       "      <th>2</th>\n",
       "      <td>1</td>\n",
       "      <td>Amazing!: This soundtrack is my favorite music...</td>\n",
       "      <td>amazing this soundtrack is my favorite music o...</td>\n",
       "    </tr>\n",
       "  </tbody>\n",
       "</table>\n",
       "</div>"
      ],
      "text/plain": [
       "   label                                               text  \\\n",
       "0      1  Stuning even for the non-gamer: This sound tra...   \n",
       "1      1  The best soundtrack ever to anything.: I'm rea...   \n",
       "2      1  Amazing!: This soundtrack is my favorite music...   \n",
       "\n",
       "                                          clean_text  \n",
       "0  stuning even for the nongamer this sound track...  \n",
       "1  the best soundtrack ever to anything im readin...  \n",
       "2  amazing this soundtrack is my favorite music o...  "
      ]
     },
     "execution_count": 56,
     "metadata": {},
     "output_type": "execute_result"
    }
   ],
   "source": [
    "df.head(3)"
   ]
  },
  {
   "cell_type": "code",
   "execution_count": 55,
   "id": "fe8afc30",
   "metadata": {},
   "outputs": [],
   "source": [
    "# Save df containing clean text\n",
    "df.to_csv(\"../raw_data/train_df_ml_clean.csv\", header = True, index = False)"
   ]
  }
 ],
 "metadata": {
  "kernelspec": {
   "display_name": "sentiscope",
   "language": "python",
   "name": "python3"
  },
  "language_info": {
   "codemirror_mode": {
    "name": "ipython",
    "version": 3
   },
   "file_extension": ".py",
   "mimetype": "text/x-python",
   "name": "python",
   "nbconvert_exporter": "python",
   "pygments_lexer": "ipython3",
   "version": "3.10.6"
  }
 },
 "nbformat": 4,
 "nbformat_minor": 5
}
